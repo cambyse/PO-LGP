{
 "metadata": {
  "name": ""
 },
 "nbformat": 3,
 "nbformat_minor": 0,
 "worksheets": [
  {
   "cells": [
    {
     "cell_type": "code",
     "collapsed": false,
     "input": [
      "from __future__ import division\n",
      "from __future__ import print_function\n",
      "import random\n",
      "import copy\n",
      "import pprint as pp\n",
      "\n",
      "import numpy as np\n",
      "arr = np.array\n",
      "import scipy.stats as ss\n",
      "\n",
      "import matplotlib.pyplot as plt\n",
      "from mpl_toolkits.mplot3d import Axes3D\n",
      "import seaborn as sns\n",
      "\n",
      "%matplotlib inline\n",
      "# automatically reload modules on change\n",
      "%load_ext autoreload\n",
      "%autoreload 2"
     ],
     "language": "python",
     "metadata": {},
     "outputs": [],
     "prompt_number": null
    },
    {
     "cell_type": "markdown",
     "metadata": {},
     "source": [
      "# Exploration and Information\n",
      "This is an comparison of different exploration strategies in a bandit-like scenario."
     ]
    },
    {
     "cell_type": "code",
     "collapsed": false,
     "input": [
      "import exploration as ex\n",
      "import strategies"
     ],
     "language": "python",
     "metadata": {},
     "outputs": [],
     "prompt_number": null
    },
    {
     "cell_type": "code",
     "collapsed": false,
     "input": [
      "world, belief = ex.init()"
     ],
     "language": "python",
     "metadata": {},
     "outputs": [],
     "prompt_number": null
    },
    {
     "cell_type": "code",
     "collapsed": false,
     "input": [
      "def analyse_summary(summary, data, experiments):\n",
      "    \"\"\"Analyse the summary: Print stats and plot comparisions.\"\"\"\n",
      "    colors = sns.color_palette()\n",
      "    attr_names = [\"MSE\",\n",
      "                  \"entropy\",\n",
      "                  #\"expected_diff_H\",\n",
      "                  \"likelihood\",\n",
      "                  #\"log_likelihood\"\n",
      "                  ]\n",
      "    colors = sns.color_palette()\n",
      "    n = len(attr_names)\n",
      "    \n",
      "    # pp.pprint(summary)\n",
      "\n",
      "#     fig, axes = plt.subplots(1, n, figsize=(n * 3, 4))\n",
      "#     for j, attr_name in enumerate(attr_names):\n",
      "#         for pos, strategy_name in enumerate(experiments):\n",
      "#             data = summary[strategy_name][attr_name]\n",
      "#             axes[j].bar(pos, data, label=strategy_name, color=colors[pos])\n",
      "#         axes[j].legend()\n",
      "#         axes[j].set_title(attr_name)\n",
      "#         axes[j].set_xticklabels([])\n",
      "    \n",
      "    fig, axes = plt.subplots(1, n, figsize=(n * 4, 4))\n",
      "    for j, attr_name in enumerate(attr_names):\n",
      "        for strat_idx, strategy_name in enumerate(experiments):\n",
      "            values = data[strategy_name][attr_name]\n",
      "            sns.tsplot(values, ax=axes[j], condition=[strategy_name], color=colors[strat_idx])\n",
      "        axes[j].legend()\n",
      "        axes[j].set_title(attr_name)\n",
      "        axes[j].set_xticklabels([])"
     ],
     "language": "python",
     "metadata": {},
     "outputs": [],
     "prompt_number": null
    },
    {
     "cell_type": "markdown",
     "metadata": {},
     "source": [
      "Actually run the experiments!"
     ]
    },
    {
     "cell_type": "code",
     "collapsed": false,
     "input": [
      "# These sesttings are going to be used for all experiments\n",
      "runs, num_interactions = 10, 50\n",
      "experiments = {\n",
      "    \"Random\": strategies.random_select,\n",
      "    \"Expected change of H\": strategies.strategy_expected_change_of_entropy,\n",
      "    \"Entropy\": strategies.strategy_entropy,\n",
      "    \"Sequential\": strategies.strategy_sequential()\n",
      "}"
     ],
     "language": "python",
     "metadata": {},
     "outputs": [],
     "prompt_number": null
    },
    {
     "cell_type": "markdown",
     "metadata": {},
     "source": [
      "# Deterministic Scenario\n",
      "What is going to happen if all doors can be opened all the time.\n",
      "\n",
      "**Hyp:** The strategy should not matter in this case."
     ]
    },
    {
     "cell_type": "code",
     "collapsed": false,
     "input": [
      "summary = {}\n",
      "for name, strategy in experiments.iteritems():\n",
      "    summary[name] = ex.multi_run(ex.init_all_openable,\n",
      "                                 strategy_name=name,\n",
      "                                 select_strategy=strategy,\n",
      "                                 num_interactions=num_interactions,\n",
      "                                 runs=runs)\n",
      "analyse_summary(summary, experiments)"
     ],
     "language": "python",
     "metadata": {},
     "outputs": [],
     "prompt_number": null
    },
    {
     "cell_type": "markdown",
     "metadata": {},
     "source": [
      "As expected, the strategies don't matter. The random strategy has some fluctuation which was to be expected.\n",
      "\n",
      "**Conclusion:** the strategies don't matter in a simple deterministic world.\n",
      "\n",
      "Just to make sure let's repeat the experiment in a bigger but still deterministic world."
     ]
    },
    {
     "cell_type": "code",
     "collapsed": false,
     "input": [
      "summary = {}\n",
      "for name, strategy in experiments.iteritems():\n",
      "    summary[name] = ex.multi_run(ex.init_all_openable_big,\n",
      "                              strategy_name=name,\n",
      "                              select_strategy=strategy,\n",
      "                              num_interactions=num_interactions,\n",
      "                              runs=runs)\n",
      "analyse_summary(summary, experiments)"
     ],
     "language": "python",
     "metadata": {},
     "outputs": []
    },
    {
     "cell_type": "markdown",
     "metadata": {},
     "source": [
      "The results confirm our previous thoughts. In a completly deterministic world the strategy does not matter."
     ]
    },
    {
     "cell_type": "code",
     "collapsed": false,
     "input": [
      "summary, data = {}, {}\n",
      "for name, strategy in experiments.iteritems():\n",
      "    summary[name] = ex.multi_run(ex.init_some_openable_big,\n",
      "                              strategy_name=name,\n",
      "                              select_strategy=strategy,\n",
      "                              num_interactions=num_interactions,\n",
      "                              runs=runs)\n",
      "analyse_summary(summary, experiments)"
     ],
     "language": "python",
     "metadata": {},
     "outputs": [],
     "prompt_number": null
    },
    {
     "cell_type": "markdown",
     "metadata": {},
     "source": [
      "# Deterministic World with Stochasic Observation"
     ]
    },
    {
     "cell_type": "code",
     "collapsed": false,
     "input": [
      "def observation_noise(opened, p=.05):\n",
      "    \"\"\"Observation noise distorts the observation.\n",
      "    Toggle the observation with probability p.\"\"\"\n",
      "    return opened if random.random() > p else not opened"
     ],
     "language": "python",
     "metadata": {},
     "outputs": [],
     "prompt_number": null
    },
    {
     "cell_type": "code",
     "collapsed": false,
     "input": [
      "runs, num_interactions = 100, 100\n",
      "summary, data = {}, {}\n",
      "for name, strategy in experiments.iteritems():\n",
      "    summary[name], data[name] = ex.multi_run(\n",
      "        ex.init_some_openable_big,\n",
      "        strategy_name=name,\n",
      "        select_strategy=strategy,\n",
      "        num_interactions=num_interactions,\n",
      "        runs=runs,\n",
      "        observation_model=observation_noise)\n",
      "analyse_summary(summary, data, experiments)"
     ],
     "language": "python",
     "metadata": {},
     "outputs": [],
     "prompt_number": null
    },
    {
     "cell_type": "markdown",
     "metadata": {},
     "source": [
      "# Stochastic world, det. observation"
     ]
    },
    {
     "cell_type": "code",
     "collapsed": false,
     "input": [
      "runs, num_interactions = 100, 100\n",
      "summary, data = {}, {}\n",
      "\n",
      "for name, strategy in experiments.iteritems():\n",
      "    summary[name], data[name] = ex.multi_run(\n",
      "        ex.init_stochastic_world,\n",
      "        strategy_name=name,\n",
      "        select_strategy=strategy,\n",
      "        num_interactions=num_interactions,\n",
      "        runs=runs\n",
      "    )"
     ],
     "language": "python",
     "metadata": {},
     "outputs": [],
     "prompt_number": null
    },
    {
     "cell_type": "code",
     "collapsed": false,
     "input": [
      "analyse_summary(summary, data, experiments)"
     ],
     "language": "python",
     "metadata": {},
     "outputs": [],
     "prompt_number": null
    }
   ],
   "metadata": {}
  }
 ]
}