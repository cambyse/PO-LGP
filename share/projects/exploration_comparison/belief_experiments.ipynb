{
 "metadata": {
  "name": ""
 },
 "nbformat": 3,
 "nbformat_minor": 0,
 "worksheets": [
  {
   "cells": [
    {
     "cell_type": "code",
     "collapsed": false,
     "input": [
      "from __future__ import division\n",
      "from __future__ import print_function\n",
      "import random\n",
      "import copy\n",
      "import pprint as pp\n",
      "\n",
      "import numpy as np\n",
      "import scipy.stats as ss\n",
      "\n",
      "import matplotlib.pyplot as plt\n",
      "from mpl_toolkits.mplot3d import Axes3D\n",
      "import seaborn as sns\n",
      "\n",
      "%matplotlib inline\n",
      "# automatically reload modules on change\n",
      "%load_ext autoreload\n",
      "%autoreload 2"
     ],
     "language": "python",
     "metadata": {},
     "outputs": [],
     "prompt_number": null
    },
    {
     "cell_type": "markdown",
     "metadata": {},
     "source": [
      "# Testing Belief representations with hierarchies"
     ]
    },
    {
     "cell_type": "code",
     "collapsed": false,
     "input": [
      "import belief\n",
      "import probdist"
     ],
     "language": "python",
     "metadata": {},
     "outputs": [],
     "prompt_number": null
    },
    {
     "cell_type": "code",
     "collapsed": false,
     "input": [
      "b = belief.ObjectBel(\"ob1\")\n",
      "print(b.entropy())"
     ],
     "language": "python",
     "metadata": {},
     "outputs": [],
     "prompt_number": null
    },
    {
     "cell_type": "code",
     "collapsed": false,
     "input": [
      "b = belief.ObjectBel(\"ob1\")\n",
      "\n",
      "entropy = np.ndarray((10, 10))\n",
      "#print(entropy)\n",
      "for i in range(10):\n",
      "    b = belief.ObjectBel(\"ob1\")\n",
      "    b[\"movable\"] = i\n",
      "    for j in range(1, 10):\n",
      "        b.observe(\"static\")\n",
      "        entropy[i, j] = b.entropy_diff()"
     ],
     "language": "python",
     "metadata": {},
     "outputs": [],
     "prompt_number": null
    },
    {
     "cell_type": "code",
     "collapsed": false,
     "input": [
      "x = np.linspace(1, 10, 10)\n",
      "X, Y = np.meshgrid(x, x)\n",
      "fig = plt.figure(figsize=(12, 9))\n",
      "ax = fig.add_subplot(111, projection='3d')\n",
      "ax.plot_wireframe(X, Y, entropy);"
     ],
     "language": "python",
     "metadata": {},
     "outputs": [],
     "prompt_number": null
    },
    {
     "cell_type": "markdown",
     "metadata": {},
     "source": [
      "# Hierarchical"
     ]
    },
    {
     "cell_type": "markdown",
     "metadata": {},
     "source": [
      "Visualize the sum of two gaussians. The narrow gaussian is the nil gaussian."
     ]
    },
    {
     "cell_type": "code",
     "collapsed": false,
     "input": [
      "dom = np.linspace(-5, 5, 500)\n",
      "\n",
      "d1 = ss.norm(loc=0, scale=1)\n",
      "y1 = d1.pdf(dom)\n",
      "p1 = .8\n",
      "e1 = d1.entropy()\n",
      "\n",
      "d2 = ss.norm(loc=0, scale=.2)\n",
      "y2 = d2.pdf(dom)\n",
      "p2 = 1 - p1\n",
      "e2 = d2.entropy()\n",
      "\n",
      "y3 = p1 * y1 + p2 * y2\n",
      "\n",
      "fig, ax = plt.subplots(figsize=(8, 6))\n",
      "ax.plot(dom, y1, label=\"$y_1$\")\n",
      "ax.plot(dom, y2, label=\"$y_2$\")\n",
      "ax.plot(dom, y3, label=\"$p_1 y_1 + p_2 y_2$\")\n",
      "ax.legend();\n",
      "\n",
      "print(e1, e2)\n",
      "print(p1, p2)\n",
      "\n",
      "e3 = p1 * e1 + p2 * e2\n",
      "e3"
     ],
     "language": "python",
     "metadata": {},
     "outputs": [],
     "prompt_number": null
    },
    {
     "cell_type": "markdown",
     "metadata": {},
     "source": [
      "How do we want to calculate the change of entropy for the joint bel?\n",
      "\n",
      "- icrement the counter for each label in JointBel\n",
      "- update the appropiate Gaussian with a simple forward model\n",
      "  - new gauss = old gauss * fake msmt (+ noise)"
     ]
    },
    {
     "cell_type": "code",
     "collapsed": false,
     "input": [
      "from pprint import pprint\n",
      "j = belief.JointBel(\"j1\")\n",
      "\n",
      "print(\"probs {} {} --> H={}\".format(j.name, j.probs(), j.entropy()))\n",
      "h_change, h_stats = j.entropy_tmp()\n",
      "pprint(h_stats)\n",
      "pprint(h_change)"
     ],
     "language": "python",
     "metadata": {},
     "outputs": [],
     "prompt_number": null
    },
    {
     "cell_type": "code",
     "collapsed": false,
     "input": [
      "j.observe(\"rot\")\n",
      "\n",
      "print(\"probs {} {} --> H={:.3f} H_exp_diff={:.3f}\".format(\n",
      "      j.name, j.probs(), j.entropy(), j.entropy_diff())\n",
      ")\n",
      "h_change, h_stats = j.entropy_tmp()\n",
      "pprint(h_stats)\n",
      "pprint(h_change)"
     ],
     "language": "python",
     "metadata": {},
     "outputs": [],
     "prompt_number": null
    },
    {
     "cell_type": "code",
     "collapsed": false,
     "input": [],
     "language": "python",
     "metadata": {},
     "outputs": [],
     "prompt_number": null
    }
   ],
   "metadata": {}
  }
 ]
}