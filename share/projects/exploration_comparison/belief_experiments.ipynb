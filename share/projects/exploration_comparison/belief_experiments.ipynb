{
 "metadata": {
  "name": ""
 },
 "nbformat": 3,
 "nbformat_minor": 0,
 "worksheets": [
  {
   "cells": [
    {
     "cell_type": "code",
     "collapsed": false,
     "input": [
      "from __future__ import division\n",
      "from __future__ import print_function\n",
      "import random\n",
      "import copy\n",
      "import pprint as pp\n",
      "\n",
      "import numpy as np\n",
      "import scipy.stats as ss\n",
      "\n",
      "import matplotlib.pyplot as plt\n",
      "from mpl_toolkits.mplot3d import Axes3D\n",
      "#import seaborn as sns\n",
      "\n",
      "%matplotlib inline\n",
      "# automatically reload modules on change\n",
      "%load_ext autoreload\n",
      "%autoreload 2"
     ],
     "language": "python",
     "metadata": {},
     "outputs": []
    },
    {
     "cell_type": "markdown",
     "metadata": {},
     "source": [
      "# Testing Belief representations with hierarchies"
     ]
    },
    {
     "cell_type": "code",
     "collapsed": false,
     "input": [
      "import belief\n",
      "import probdist"
     ],
     "language": "python",
     "metadata": {},
     "outputs": []
    },
    {
     "cell_type": "code",
     "collapsed": false,
     "input": [
      "b = belief.ObjectBel(\"ob1\")\n",
      "print(b.H())\n",
      "for i in range(10):\n",
      "    b.observe(\"static\")\n",
      "    print(b.probs())\n",
      "    print(b.H())\n",
      "    print (\"=\" * 30)\n",
      "    \n",
      "for i in range(10):\n",
      "    b.observe(\"movable\")\n",
      "    print(b.probs())\n",
      "    print(b.H())\n",
      "    print (\"=\" * 30)"
     ],
     "language": "python",
     "metadata": {},
     "outputs": []
    },
    {
     "cell_type": "code",
     "collapsed": false,
     "input": [
      "b = belief.ObjectBel(\"ob1\")\n",
      "\n",
      "entropy = np.ndarray((10, 10))\n",
      "#print(entropy)\n",
      "for i in range(1, 10):\n",
      "    b = belief.ObjectBel(\"ob1\")\n",
      "    b[\"movable\"] = i\n",
      "    for j in range(1, 10):\n",
      "        b.observe(\"static\")\n",
      "        entropy[i, j] = b.H_diff()"
     ],
     "language": "python",
     "metadata": {},
     "outputs": []
    },
    {
     "cell_type": "code",
     "collapsed": false,
     "input": [
      "x = np.linspace(1, 10, 10)\n",
      "X, Y = np.meshgrid(x, x)\n",
      "fig = plt.figure(figsize=(12, 9))\n",
      "ax = fig.add_subplot(111, projection='3d')\n",
      "ax.plot_wireframe(X, Y, entropy)"
     ],
     "language": "python",
     "metadata": {},
     "outputs": []
    },
    {
     "cell_type": "markdown",
     "metadata": {},
     "source": [
      "# Hierarchical"
     ]
    },
    {
     "cell_type": "code",
     "collapsed": false,
     "input": [
      "j = belief.JointBel(\"j1\")\n",
      "#print(j.H())\n",
      "#print(j.probs())\n",
      "# The expected change of entropy is 0 because we're really\n",
      "# certain that the joint is \"nil\"\n",
      "#print(j.H_diff())\n",
      "\n",
      "j.observe(\"pris\")\n",
      "#print(j.probs())\n",
      "#print(j.H_diff())\n",
      "\n",
      "j.observe(\"pris\")\n",
      "#print(j.probs())\n",
      "#print(j.H_diff())\n",
      "\n",
      "\n",
      "j.H_tmp()"
     ],
     "language": "python",
     "metadata": {},
     "outputs": []
    },
    {
     "cell_type": "code",
     "collapsed": false,
     "input": [
      "dom = np.linspace(-5, 5, 500)\n",
      "\n",
      "d1 = ss.norm(loc=0, scale=1)\n",
      "y1 = d1.pdf(dom)\n",
      "p1 = .8\n",
      "e1 = d1.entropy()\n",
      "\n",
      "d2 = ss.norm(loc=0, scale=.2)\n",
      "y2 = d2.pdf(dom)\n",
      "p2 = 1 - p1\n",
      "e2 = d2.entropy()\n",
      "\n",
      "y3 = p1 * y1 + p2 * y2\n",
      "\n",
      "fig, ax = plt.subplots(figsize=(8, 6))\n",
      "ax.plot(dom, y1, label=\"$y_1$\")\n",
      "ax.plot(dom, y2, label=\"$y_2$\")\n",
      "ax.plot(dom, y3, label=\"$p_1 y_1 + p_2 y_2$\")\n",
      "ax.legend();\n",
      "\n",
      "print(e1, e2)\n",
      "print(p1, p2)\n",
      "\n",
      "e3 = p1 * e1 + p2 * e2\n",
      "e3"
     ],
     "language": "python",
     "metadata": {},
     "outputs": []
    },
    {
     "cell_type": "markdown",
     "metadata": {},
     "source": [
      "How do we want to calculate the change of entropy for the joint bel?\n",
      "\n",
      "- icrement the counter for each label in JointBel\n",
      "- update the appropiate Gaussian with a simple forward model\n",
      "  - new gauss = old gauss * fake msmt (+ noise)"
     ]
    },
    {
     "cell_type": "code",
     "collapsed": false,
     "input": [
      "import math\n",
      "prior_std = .8\n",
      "update_std = .7\n",
      "\n",
      "dom = np.linspace(-5, 5, 500)\n",
      "\n",
      "y1 = ss.norm.pdf(dom, loc=0, scale=prior_std)\n",
      "y2 = ss.norm.pdf(dom, loc=0, scale=update_std)\n",
      "\n",
      "prior_sigma, update_sigma = prior_std**2, update_std**2\n",
      "post_sigma = math.sqrt(prior_sigma * update_sigma /\n",
      "                     (prior_sigma + update_sigma))\n",
      "#post_std = post_sigma ** 2\n",
      "#post_std = math.sqrt(post_sigma)\n",
      "\n",
      "print(post_sigma)\n",
      "print(post_std)\n",
      "y3 = ss.norm.pdf(dom, loc=0, scale=post_sigma)\n",
      "\n",
      "fig, ax = plt.subplots(figsize=(8, 6))\n",
      "ax.plot(dom, y1, label=\"prior\")\n",
      "ax.plot(dom, y2, label=\"update\")\n",
      "ax.plot(dom, y3, label=\"post\")\n",
      "\n",
      "ax.legend();"
     ],
     "language": "python",
     "metadata": {},
     "outputs": []
    },
    {
     "cell_type": "code",
     "collapsed": false,
     "input": [
      "j = belief.JointBel(\"j1\")\n",
      "print(j.probs())\n",
      "print(j.H_tmp())\n",
      "print(j.H_diff())"
     ],
     "language": "python",
     "metadata": {},
     "outputs": []
    },
    {
     "cell_type": "code",
     "collapsed": false,
     "input": [
      "j.observe(\"pris\")\n",
      "print(j.probs())\n",
      "print(j.H_tmp())\n",
      "\n",
      "print(\"_\"*86)\n",
      "j.observe(\"pris\")\n",
      "print(j.probs())\n",
      "print(j.H_tmp())"
     ],
     "language": "python",
     "metadata": {},
     "outputs": []
    },
    {
     "cell_type": "code",
     "collapsed": false,
     "input": [
      "j.H_diff()"
     ],
     "language": "python",
     "metadata": {},
     "outputs": []
    }
   ],
   "metadata": {}
  }
 ]
}