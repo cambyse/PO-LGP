{
 "metadata": {
  "name": ""
 },
 "nbformat": 3,
 "nbformat_minor": 0,
 "worksheets": [
  {
   "cells": [
    {
     "cell_type": "code",
     "collapsed": false,
     "input": [
      "from __future__ import division\n",
      "from __future__ import print_function\n",
      "\n",
      "import copy\n",
      "import datetime\n",
      "import random\n",
      "import math\n",
      "import pprint as pp\n",
      "\n",
      "import numpy as np\n",
      "arr = np.array\n",
      "import scipy.stats as ss\n",
      "\n",
      "import matplotlib as mpl\n",
      "import matplotlib.pyplot as plt\n",
      "from mpl_toolkits.mplot3d import Axes3D\n",
      "import seaborn as sns\n",
      "\n",
      "# iPython magic\n",
      "%matplotlib inline\n",
      "%load_ext autoreload\n",
      "%autoreload 2"
     ],
     "language": "python",
     "metadata": {},
     "outputs": [],
     "prompt_number": null
    },
    {
     "cell_type": "code",
     "collapsed": false,
     "input": [
      "sns.color_palette(\"coolwarm\", 16);"
     ],
     "language": "python",
     "metadata": {},
     "outputs": [],
     "prompt_number": null
    },
    {
     "cell_type": "markdown",
     "metadata": {},
     "source": [
      "# test complex (hierarchical) environments"
     ]
    },
    {
     "cell_type": "code",
     "collapsed": false,
     "input": [
      "import exploration_complex as ex\n",
      "import belief_rep\n",
      "from strategies_complex import StrategyRandom\n",
      "from strategies_complex import StrategyRoundRobin\n",
      "#from strategies_complex import StrategyMaxEntropyObjType\n",
      "#from strategies_complex import StrategyMaxEntropyJointType\n",
      "from strategies_complex import StrategyExpectedChangeOfEntropy\n",
      "#from strategies_complex import StrategyExpectedChangeOfEntropyVote"
     ],
     "language": "python",
     "metadata": {},
     "outputs": [],
     "prompt_number": null
    },
    {
     "cell_type": "code",
     "collapsed": false,
     "input": [
      "world, belief = ex.init()"
     ],
     "language": "python",
     "metadata": {},
     "outputs": [],
     "prompt_number": null
    },
    {
     "cell_type": "markdown",
     "metadata": {},
     "source": [
      "# One wall, one door\n",
      "\n",
      "Exp. change of entropy should explore the door more often."
     ]
    },
    {
     "cell_type": "code",
     "collapsed": false,
     "input": [
      "world, belief = ex.init_wall_and_door()\n",
      "select_strategy = StrategyRandom()"
     ],
     "language": "python",
     "metadata": {},
     "outputs": [],
     "prompt_number": null
    },
    {
     "cell_type": "code",
     "collapsed": false,
     "input": [
      "world, belief = ex.init_wall_and_door()\n",
      "select_strategy = StrategyRoundRobin()"
     ],
     "language": "python",
     "metadata": {},
     "outputs": [],
     "prompt_number": null
    },
    {
     "cell_type": "code",
     "collapsed": false,
     "input": [
      "world, belief = ex.init_wall_and_door()\n",
      "select_strategy = StrategyExpectedChangeOfEntropy()"
     ],
     "language": "python",
     "metadata": {},
     "outputs": [],
     "prompt_number": null
    },
    {
     "cell_type": "code",
     "collapsed": false,
     "input": [
      "idx = select_strategy(belief)\n",
      "print(\"selecting object {}\".format(idx))\n",
      "observations = world[idx].interact()\n",
      "belief[idx].update(observations)\n",
      "fig = ex.plot_belief(belief)"
     ],
     "language": "python",
     "metadata": {},
     "outputs": [],
     "prompt_number": null
    },
    {
     "cell_type": "code",
     "collapsed": false,
     "input": [
      "world, belief = ex.init_wall_and_door()\n",
      "select_strategy = StrategyRoundRobin()\n",
      "\n",
      "for i in range(50):\n",
      "    idx = select_strategy(belief)\n",
      "    print(\"selecting object {}\".format(idx))\n",
      "    observations = world[idx].interact()\n",
      "    belief[idx].update(observations)\n",
      "    fig = ex.plot_belief(belief)\n",
      "\n",
      "    filename = \"belief_step-{:0>2d}_selected-{}.pdf\".format(i, idx)\n",
      "    fig.savefig(filename)\n",
      "    filename = \"belief_step-{:0>2d}_selected-{}.png\".format(i, idx)\n",
      "    fig.savefig(filename)"
     ],
     "language": "python",
     "metadata": {},
     "outputs": [],
     "prompt_number": null
    },
    {
     "cell_type": "markdown",
     "metadata": {},
     "source": [
      "# Test all strategies\n",
      "Quick test if all strategies run."
     ]
    },
    {
     "cell_type": "code",
     "collapsed": false,
     "input": [
      "strategies = [\n",
      "    StrategyRandom(),\n",
      "    StrategyRoundRobin(),\n",
      "    StrategyMaxEntropyObjType(),\n",
      "    StrategyMaxEntropyJointType(),\n",
      "    StrategyExpectedChangeOfEntropy(),\n",
      "    StrategyExpectedChangeOfEntropyVote(),\n",
      "]\n",
      "runs = 1\n",
      "for strategy in strategies:\n",
      "    print(\"=====================================\\n{}\".format(strategy.name))\n",
      "    world, belief = ex.init()\n",
      "    bel_history = ex.run_experiment(world, belief, StrategyRoundRobin(), 10, make_pics=False);"
     ],
     "language": "python",
     "metadata": {},
     "outputs": [],
     "prompt_number": null
    },
    {
     "cell_type": "code",
     "collapsed": false,
     "input": [
      "class ObservationModel(object):\n",
      "    def __init__(self, p):\n",
      "        self.p = p\n",
      "        \n",
      "    def __call__(self, observations):\n",
      "        #print(\"real properties:\", observations)\n",
      "        if random.random() < self.p:\n",
      "            observations = random.choice([(\"static\", \"nil\"), (\"movable\", \"pris\"), (\"movable\", \"rot\")])\n",
      "        #print(\"noisy observations\", observations)\n",
      "\n",
      "        return observations"
     ],
     "language": "python",
     "metadata": {},
     "outputs": [],
     "prompt_number": null
    },
    {
     "cell_type": "code",
     "collapsed": false,
     "input": [
      "world, belief = ex.init()\n",
      "select = StrategyExpectedChangeOfEntropyVote()\n",
      "step = 0"
     ],
     "language": "python",
     "metadata": {},
     "outputs": [],
     "prompt_number": null
    },
    {
     "cell_type": "code",
     "collapsed": false,
     "input": [
      "step += 1\n",
      "idx = select(belief)\n",
      "print(\"selecting object {} in step {}.\".format(idx, step))\n",
      "\n",
      "observations = world[idx].interact()\n",
      "observations = observation_model(observations, p=.5)\n",
      "belief[idx].update(observations)\n",
      "\n",
      "fig = ex.plot_belief(belief)\n",
      "#filename = datetime.datetime.now().strftime(\"%Y-%m-%d_%H:%M:%S:%f.png\")\n",
      "#fig.savefig(filename)"
     ],
     "language": "python",
     "metadata": {},
     "outputs": [],
     "prompt_number": null
    },
    {
     "cell_type": "code",
     "collapsed": false,
     "input": [
      "# These sesttings are going to be used for all experiments\n",
      "runs, num_interactions = 1, 50\n",
      "runs, num_interactions = 100, 100\n",
      "experiments = [\n",
      "    StrategyRandom(),\n",
      "    StrategyRoundRobin(),\n",
      "    StrategyMaxEntropyObjType(),\n",
      "    StrategyMaxEntropyJointType(),\n",
      "    StrategyExpectedChangeOfEntropy(),\n",
      "    StrategyExpectedChangeOfEntropyVote(),\n",
      "]\n",
      "\n",
      "mpl.rcParams.update({'font.size': 18})\n",
      "\n",
      "noise_level = [0, 5, 10, 15, 20, 25]\n",
      "for noise in noise_level:\n",
      "    summary, data = {}, {}\n",
      "    for strategy in experiments:\n",
      "        print(strategy.name, strategy)\n",
      "        name = strategy.name\n",
      "    \n",
      "        summary[name], data[name] = ex.multi_run(\n",
      "                f_init=ex.init,\n",
      "                select_strategy=strategy,\n",
      "                num_interactions=num_interactions,\n",
      "                runs=runs,\n",
      "                observation_model=ObservationModel(noise))\n",
      "        \n",
      "    fig = analyse_summary(summary, data, experiments, \"noise={}%\".format(noise))\n",
      "    filename = \"ex_runs-{}_noise-{}.pdf\".format(runs, noise)\n",
      "    fig.savefig(filename)"
     ],
     "language": "python",
     "metadata": {},
     "outputs": [],
     "prompt_number": null
    },
    {
     "cell_type": "code",
     "collapsed": false,
     "input": [
      "def analyse_summary(summary, data, experiments, title_suffix):\n",
      "    \"\"\"Analyse the summary: Print stats and plot comparisions.\"\"\"\n",
      "    colors = sns.color_palette()\n",
      "    attr_names = [\n",
      "                  #\"MSE\",\n",
      "                  \"entropy\",\n",
      "                  #\"expected_diff_H\",\n",
      "                  #\"likelihood\",\n",
      "                  #\"log_likelihood\"\n",
      "                  ]\n",
      "    colors = sns.color_palette()\n",
      "    n = len(attr_names)\n",
      "    \n",
      "    fig, ax = plt.subplots(figsize=(6, 4), dpi=600)\n",
      "    for j, attr_name in enumerate(attr_names):\n",
      "        for strat_idx, strategy in enumerate(experiments):\n",
      "            values = data[strategy.name][attr_name]\n",
      "            sns.tsplot(values, ax=ax, condition=[strategy.name], color=colors[strat_idx])\n",
      "        ax.legend()\n",
      "        ax.set_ylabel(\"Entropy\")\n",
      "        ax.set_xlabel(\"Number of Interactions\")\n",
      "        ax.set_title(\"Entropy over time; \" + title_suffix)\n",
      "\n",
      "        #ax.set_title(attr_name)\n",
      "        #ax.set_xticklabels([])\n",
      "    \n",
      "    return fig\n",
      "    # pp.pprint(summary)\n",
      "\n",
      "#     fig, axes = plt.subplots(1, n, figsize=(n * 3, 4))\n",
      "#     for j, attr_name in enumerate(attr_names):\n",
      "#         for pos, strategy_name in enumerate(experiments):\n",
      "#             data = summary[strategy_name][attr_name]\n",
      "#             axes[j].bar(pos, data, label=strategy_name, color=colors[pos])\n",
      "#         axes[j].legend()\n",
      "#         axes[j].set_title(attr_name)\n",
      "#         axes[j].set_xticklabels([])\n",
      "    \n",
      "    fig, axes = plt.subplots(1, n, figsize=(n * 3, 4))\n",
      "    for j, attr_name in enumerate(attr_names):\n",
      "        for strat_idx, strategy in enumerate(experiments):\n",
      "            values = data[strategy.name][attr_name]\n",
      "            sns.tsplot(values, ax=axes[j], condition=[strategy.name], color=colors[strat_idx])\n",
      "        axes[j].legend()\n",
      "        axes[j].set_title(attr_name)\n",
      "        axes[j].set_xticklabels([])\n",
      "    \n",
      "    return fig"
     ],
     "language": "python",
     "metadata": {},
     "outputs": [],
     "prompt_number": null
    }
   ],
   "metadata": {}
  }
 ]
}