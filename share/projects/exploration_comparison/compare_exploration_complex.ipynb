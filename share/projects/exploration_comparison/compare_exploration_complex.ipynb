{
 "metadata": {
  "name": ""
 },
 "nbformat": 3,
 "nbformat_minor": 0,
 "worksheets": [
  {
   "cells": [
    {
     "cell_type": "code",
     "collapsed": false,
     "input": [
      "from __future__ import division\n",
      "from __future__ import print_function\n",
      "import random\n",
      "import copy\n",
      "import pprint as pp\n",
      "\n",
      "import numpy as np\n",
      "arr = np.array\n",
      "import scipy.stats as ss\n",
      "\n",
      "import matplotlib.pyplot as plt\n",
      "from mpl_toolkits.mplot3d import Axes3D\n",
      "import seaborn as sns\n",
      "#sns.set(style=\"whitegrid\")\n",
      "sns.palplot(sns.color_palette(\"coolwarm\", 16))\n",
      "\n",
      "from pprint import pprint\n",
      "\n",
      "%matplotlib inline\n",
      "# automatically reload modules on change\n",
      "%load_ext autoreload\n",
      "%autoreload 2"
     ],
     "language": "python",
     "metadata": {},
     "outputs": []
    },
    {
     "cell_type": "markdown",
     "metadata": {},
     "source": [
      "# test complex (hierarchical) environments"
     ]
    },
    {
     "cell_type": "code",
     "collapsed": false,
     "input": [
      "import exploration_complex as ex\n",
      "import belief_rep"
     ],
     "language": "python",
     "metadata": {},
     "outputs": []
    },
    {
     "cell_type": "code",
     "collapsed": false,
     "input": [
      "world, belief = ex.init()\n",
      "print(world)\n",
      "print(belief)"
     ],
     "language": "python",
     "metadata": {},
     "outputs": []
    },
    {
     "cell_type": "code",
     "collapsed": false,
     "input": [
      "def select_random(belief):\n",
      "    return random.randint(0, len(belief) - 1)"
     ],
     "language": "python",
     "metadata": {},
     "outputs": []
    },
    {
     "cell_type": "code",
     "collapsed": false,
     "input": [
      "world, belief = ex.init()\n",
      "bel_history = ex.run_experiment(world, belief, select_random, 5);"
     ],
     "language": "python",
     "metadata": {},
     "outputs": []
    },
    {
     "cell_type": "code",
     "collapsed": false,
     "input": [
      "world, belief = ex.init()\n",
      "step = 0"
     ],
     "language": "python",
     "metadata": {},
     "outputs": []
    },
    {
     "cell_type": "code",
     "collapsed": false,
     "input": [
      "step += 1\n",
      "idx = select_random(belief)\n",
      "print(\"selecting object {} in step {}.\".format(idx, step))\n",
      "observations = world[idx].interact()\n",
      "belief[idx].update(observations)\n",
      "\n",
      "ex.plot_belief(belief) "
     ],
     "language": "python",
     "metadata": {},
     "outputs": []
    },
    {
     "cell_type": "code",
     "collapsed": false,
     "input": [
      "for i in range(30):\n",
      "    print(i)"
     ],
     "language": "python",
     "metadata": {},
     "outputs": []
    }
   ],
   "metadata": {}
  }
 ]
}