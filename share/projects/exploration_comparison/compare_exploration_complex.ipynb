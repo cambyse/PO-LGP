{
 "metadata": {
  "name": ""
 },
 "nbformat": 3,
 "nbformat_minor": 0,
 "worksheets": [
  {
   "cells": [
    {
     "cell_type": "code",
     "collapsed": false,
     "input": [
      "from __future__ import division\n",
      "from __future__ import print_function\n",
      "\n",
      "import copy\n",
      "import datetime\n",
      "import random\n",
      "import math\n",
      "import pprint as pp\n",
      "\n",
      "import numpy as np\n",
      "arr = np.array\n",
      "import scipy.stats as ss\n",
      "\n",
      "import matplotlib as mpl\n",
      "import matplotlib.pyplot as plt\n",
      "from mpl_toolkits.mplot3d import Axes3D\n",
      "import seaborn as sns\n",
      "\n",
      "# iPython magic\n",
      "%matplotlib inline\n",
      "%load_ext autoreload\n",
      "%autoreload 2"
     ],
     "language": "python",
     "metadata": {},
     "outputs": [],
     "prompt_number": null
    },
    {
     "cell_type": "code",
     "collapsed": false,
     "input": [
      "sns.palplot(sns.color_palette(\"coolwarm\", 16))"
     ],
     "language": "python",
     "metadata": {},
     "outputs": [],
     "prompt_number": null
    },
    {
     "cell_type": "markdown",
     "metadata": {},
     "source": [
      "# test complex (hierarchical) environments"
     ]
    },
    {
     "cell_type": "code",
     "collapsed": false,
     "input": [
      "import exploration_complex as ex\n",
      "import belief_rep\n",
      "from strategies_complex import StrategyRandom\n",
      "from strategies_complex import StrategyRoundRobin\n",
      "from strategies_complex import StrategyMaxEntropyObjType\n",
      "from strategies_complex import StrategyMaxEntropyJointType\n",
      "from strategies_complex import StrategyExpectedChangeOfEntropy\n",
      "from strategies_complex import StrategyExpectedChangeOfEntropyVote"
     ],
     "language": "python",
     "metadata": {},
     "outputs": [],
     "prompt_number": null
    },
    {
     "cell_type": "code",
     "collapsed": false,
     "input": [
      "world, belief = ex.init()"
     ],
     "language": "python",
     "metadata": {},
     "outputs": [],
     "prompt_number": null
    },
    {
     "cell_type": "markdown",
     "metadata": {},
     "source": [
      "# Test all strategies\n",
      "Quick test if all strategies run."
     ]
    },
    {
     "cell_type": "code",
     "collapsed": false,
     "input": [
      "strategies = [\n",
      "    StrategyRandom(),\n",
      "    StrategyRoundRobin(),\n",
      "    StrategyMaxEntropyObjType(),\n",
      "    StrategyMaxEntropyJointType(),\n",
      "    StrategyExpectedChangeOfEntropy(),\n",
      "    StrategyExpectedChangeOfEntropyVote(),\n",
      "]\n",
      "runs = 1\n",
      "for strategy in strategies:\n",
      "    print(\"=====================================\\n{}\".format(strategy.name))\n",
      "    world, belief = ex.init()\n",
      "    bel_history = ex.run_experiment(world, belief, StrategyRoundRobin(), 10, make_pics=False);"
     ],
     "language": "python",
     "metadata": {},
     "outputs": [],
     "prompt_number": null
    },
    {
     "cell_type": "code",
     "collapsed": false,
     "input": [
      "world, belief = ex.init()\n",
      "select = StrategyExpectedChangeOfEntropyVote()\n",
      "step = 0"
     ],
     "language": "python",
     "metadata": {},
     "outputs": [],
     "prompt_number": null
    },
    {
     "cell_type": "code",
     "collapsed": false,
     "input": [
      "step += 1\n",
      "idx = select(belief)\n",
      "print(\"selecting object {} in step {}.\".format(idx, step))\n",
      "observations = world[idx].interact()\n",
      "belief[idx].update(observations)\n",
      "\n",
      "fig = ex.plot_belief(belief)\n",
      "\n",
      "#filename = datetime.datetime.now().strftime(\"%Y-%m-%d_%H:%M:%S:%f.png\")\n",
      "#fig.savefig(filename)"
     ],
     "language": "python",
     "metadata": {},
     "outputs": [],
     "prompt_number": null
    },
    {
     "cell_type": "code",
     "collapsed": false,
     "input": [
      "range(30)"
     ],
     "language": "python",
     "metadata": {},
     "outputs": [],
     "prompt_number": null
    }
   ],
   "metadata": {}
  }
 ]
}