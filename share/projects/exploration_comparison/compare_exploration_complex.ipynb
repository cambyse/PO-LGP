{
 "metadata": {
  "name": ""
 },
 "nbformat": 3,
 "nbformat_minor": 0,
 "worksheets": [
  {
   "cells": [
    {
     "cell_type": "code",
     "collapsed": false,
     "input": [
      "from __future__ import division\n",
      "from __future__ import print_function\n",
      "import random\n",
      "import copy\n",
      "import math\n",
      "import pprint as pp\n",
      "from time import gmtime, strftime\n",
      "import datetime\n",
      "\n",
      "import numpy as np\n",
      "arr = np.array\n",
      "import scipy.stats as ss\n",
      "\n",
      "import matplotlib.pyplot as plt\n",
      "from mpl_toolkits.mplot3d import Axes3D\n",
      "import seaborn as sns\n",
      "#sns.set(style=\"whitegrid\")\n",
      "sns.palplot(sns.color_palette(\"coolwarm\", 16))\n",
      "\n",
      "from pprint import pprint\n",
      "\n",
      "%matplotlib inline\n",
      "# automatically reload modules on change\n",
      "%load_ext autoreload\n",
      "%autoreload 2"
     ],
     "language": "python",
     "metadata": {},
     "outputs": [],
     "prompt_number": null
    },
    {
     "cell_type": "markdown",
     "metadata": {},
     "source": [
      "# test complex (hierarchical) environments"
     ]
    },
    {
     "cell_type": "code",
     "collapsed": false,
     "input": [
      "import exploration_complex as ex\n",
      "import belief_rep"
     ],
     "language": "python",
     "metadata": {},
     "outputs": [],
     "prompt_number": null
    },
    {
     "cell_type": "code",
     "collapsed": false,
     "input": [
      "world, belief = ex.init()\n",
      "print(world)\n",
      "print(belief)"
     ],
     "language": "python",
     "metadata": {},
     "outputs": [],
     "prompt_number": null
    },
    {
     "cell_type": "code",
     "collapsed": false,
     "input": [
      "def select_random(belief):\n",
      "    return random.randint(0, len(belief) - 1)"
     ],
     "language": "python",
     "metadata": {},
     "outputs": [],
     "prompt_number": null
    },
    {
     "cell_type": "code",
     "collapsed": false,
     "input": [
      "world, belief = ex.init()\n",
      "bel_history = ex.run_experiment(world, belief, select_random, 100, make_pics=True);"
     ],
     "language": "python",
     "metadata": {},
     "outputs": [],
     "prompt_number": null
    },
    {
     "cell_type": "code",
     "collapsed": false,
     "input": [
      "world, belief = ex.init()\n",
      "step = 0"
     ],
     "language": "python",
     "metadata": {},
     "outputs": [],
     "prompt_number": null
    },
    {
     "cell_type": "code",
     "collapsed": false,
     "input": [
      "step += 1\n",
      "idx = select_random(belief)\n",
      "print(\"selecting object {} in step {}.\".format(idx, step))\n",
      "observations = world[idx].interact()\n",
      "belief[idx].update(observations)\n",
      "\n",
      "#fig = ex.plot_belief(belief)\n",
      "\n",
      "#filename = datetime.datetime.now().strftime(\"%Y-%m-%d_%H:%M:%S:%f.png\")\n",
      "#fig.savefig(filename)"
     ],
     "language": "python",
     "metadata": {},
     "outputs": [],
     "prompt_number": null
    },
    {
     "cell_type": "code",
     "collapsed": false,
     "input": [
      "P = [1/3, 1/3, 1/3]\n",
      "#P = [1/2, 1/2]\n",
      "#P = [1, 0]\n",
      "-sum(p * math.log(p) for p in P if p > 0)"
     ],
     "language": "python",
     "metadata": {},
     "outputs": [],
     "prompt_number": null
    },
    {
     "cell_type": "code",
     "collapsed": false,
     "input": [
      "import probdist\n",
      "\n",
      "d = probdist.CategoricalDist({\"nil\": 1, \"pris\": 1, \"rot\": 2})\n",
      "print(d.prob(\"nil\"))\n",
      "\n",
      "print(d.prob_cond(\"nil\", (\"nil\", .5)))\n",
      "print(d.prob_cond(\"pris\", (\"nil\", .5)))\n",
      "print(d.prob_cond(\"rot\", (\"nil\", .5)))\n"
     ],
     "language": "python",
     "metadata": {},
     "outputs": [],
     "prompt_number": null
    }
   ],
   "metadata": {}
  }
 ]
}