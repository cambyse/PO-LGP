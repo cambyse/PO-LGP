{
 "metadata": {
  "name": ""
 },
 "nbformat": 3,
 "nbformat_minor": 0,
 "worksheets": [
  {
   "cells": [
    {
     "cell_type": "code",
     "collapsed": false,
     "input": [
      "from __future__ import division\n",
      "import math\n",
      "import operator\n",
      "import random\n",
      "\n",
      "import numpy as np\n",
      "import scipy as sp\n",
      "import scipy.special\n",
      "import scipy.stats\n",
      "\n",
      "import matplotlib.pyplot as plt\n",
      "import matplotlib  as mpl\n",
      "\n",
      "from mpl_toolkits.mplot3d import Axes3D\n",
      "import seaborn as sns\n",
      "%matplotlib inline"
     ],
     "language": "python",
     "metadata": {},
     "outputs": []
    },
    {
     "cell_type": "markdown",
     "metadata": {},
     "source": [
      "# Dirichlet Distribution Implementation\n",
      "\n",
      "I extracted this into a propper module. I should add this to scipy."
     ]
    },
    {
     "cell_type": "code",
     "collapsed": false,
     "input": [
      "def dirichlet_pdf(loc, alphas):\n",
      "    \"\"\"Evaluate the pdf of the dirichlet distribution with parameters alphas at loc\"\"\"\n",
      "    assert len(loc) == len(alphas)\n",
      "    assert sum(loc) == 1\n",
      "    \n",
      "    prod = reduce(operator.mul, [loc[i] ** (alphas[i] - 1) for i in range(len(loc))])   \n",
      "    normalizer = reduce(operator.mul, sp.special.gamma(alphas))\n",
      "    \n",
      "    return prod / normalizer"
     ],
     "language": "python",
     "metadata": {},
     "outputs": []
    },
    {
     "cell_type": "code",
     "collapsed": false,
     "input": [
      "dirichlet_pdf(loc=[.1, .1, .8], alphas=[8, 1, 1])"
     ],
     "language": "python",
     "metadata": {},
     "outputs": []
    },
    {
     "cell_type": "code",
     "collapsed": false,
     "input": [
      "def dirichlet_dom(dim, n=50000):\n",
      "    \"\"\"Return n samples with the given dim for the dirichlet distribution.\n",
      "    \n",
      "    Rejection sampling is used.\n",
      "    \"\"\"\n",
      "    # create some x with rejection sampling\n",
      "    dom = []\n",
      "    for i in range(n):\n",
      "        samples = [random.random(), random.random()]\n",
      "        sum_ = sum(samples)\n",
      "        if sum_ > 1.:\n",
      "            # reject\n",
      "            continue\n",
      "        samples.append(1 - sum_)\n",
      "        dom.append(samples)\n",
      "        \n",
      "    return np.array(dom)"
     ],
     "language": "python",
     "metadata": {},
     "outputs": []
    },
    {
     "cell_type": "code",
     "collapsed": false,
     "input": [
      "def dirichlet_plot(alphas, dom=None, data_points=50000):\n",
      "    if dom:\n",
      "        X = dom\n",
      "    else:\n",
      "        X = dirichlet_dom(len(alphas))\n",
      "    \n",
      "    xs = X[:, 0]\n",
      "    ys = X[:, 1]\n",
      "    zs = np.array([dirichlet_pdf(X[i, :], alphas) for i in range(X.shape[0])])\n",
      "\n",
      "    fig = plt.figure(figsize=(8, 6))\n",
      "    ax = fig.add_subplot(111, projection='3d')\n",
      "    ax.plot(xs, ys, zs, \".\", color=zs)\n",
      "\n",
      "dirichlet_plot([1, 1, 1])"
     ],
     "language": "python",
     "metadata": {},
     "outputs": []
    },
    {
     "cell_type": "code",
     "collapsed": false,
     "input": [
      "dirichlet_plot([8, 8, 8])"
     ],
     "language": "python",
     "metadata": {},
     "outputs": []
    }
   ],
   "metadata": {}
  }
 ]
}