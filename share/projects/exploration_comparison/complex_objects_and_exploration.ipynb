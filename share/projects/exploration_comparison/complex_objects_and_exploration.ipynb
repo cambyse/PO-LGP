{
 "metadata": {
  "name": ""
 },
 "nbformat": 3,
 "nbformat_minor": 0,
 "worksheets": [
  {
   "cells": [
    {
     "cell_type": "code",
     "collapsed": false,
     "input": [
      "from __future__ import division"
     ],
     "language": "python",
     "metadata": {},
     "outputs": []
    },
    {
     "cell_type": "markdown",
     "metadata": {},
     "source": [
      "# Complex objects\n",
      "In the previous experiments me found out that exploration strategies in easy-to-learn-worlds, i.e. one interactions teaches the agent everything about the object, do not matter much/at all. Or the other way around: stratigies might matter if more than one interaction is needed to \"learn\" an object. Even more so if one needs specific interactions (push from left AND push from right).\n",
      "\n",
      "## What objects are interesting\n",
      "Objects that need more than one interaction. Still, the complexity must be managable for our first experiments.\n",
      "\n",
      "Examples for these experiments:\n",
      "\n",
      "- rolling couch table (let's call it `ComplexObject`)\n",
      "- kicker table\n",
      "- door with door handle (prob. too complex)\n",
      "\n",
      "The rolling couch table can be (simplified) and modeled as a 2 DoF prismatic joint.\n",
      "\n",
      "We need to think about:\n",
      "\n",
      "- how to model the belief\n",
      "- how to calculate the belief\n",
      "- how to select the action, not just the object to interact with\n"
     ]
    },
    {
     "cell_type": "markdown",
     "metadata": {},
     "source": [
      "# Model the belief\n",
      "Let's assume we only have the 2D table in the world. We only have a belief of this table.\n",
      "\n",
      "The `ComplexObject` can be pushed along `X` and `Y` and moves."
     ]
    },
    {
     "cell_type": "code",
     "collapsed": false,
     "input": [
      "class ComplexObect(object):\n",
      "    def __init__(self):\n",
      "        pass\n",
      "    \n",
      "    def push(self, from_where):\n",
      "        \"\"\"Return of the object moved when is was pushd from `from_where`.\"\"\"\n",
      "        if from_where in [PushDirection.X, PushDirection.Y]:\n",
      "            return True, MotionType.PRIS\n",
      "        return False, None"
     ],
     "language": "python",
     "metadata": {},
     "outputs": []
    },
    {
     "cell_type": "code",
     "collapsed": false,
     "input": [
      "class PushDirection(object):\n",
      "    X = 0\n",
      "    Y = 1\n",
      "\n",
      "    \n",
      "class MotionType(object):\n",
      "    ROT = 0\n",
      "    PRIS = 1"
     ],
     "language": "python",
     "metadata": {},
     "outputs": []
    },
    {
     "cell_type": "code",
     "collapsed": false,
     "input": [
      "class Bel(object):\n",
      "    \"\"\"Belief over the ComplexObject\"\"\"\n",
      "    def __init__(self):\n",
      "        self.object_type = ObjectType()\n",
      "        self.joint_type = JointType()\n",
      "\n",
      "    def update(self, from_where, moved, motion_type=None, jt_likellihood=None):\n",
      "        self.object_type.update(moved)\n",
      "        \n",
      "        if moved:\n",
      "            self.joint_type.update(motion_type, from_where, jt_likellihood)\n",
      "    \n",
      "    def __str__(self):\n",
      "        return str(self.object_type) + \"\\n\" + str(self.joint_type)\n",
      "    \n",
      "    \n",
      "class ObjectType(object):\n",
      "    def __init__(self):\n",
      "        self.static = 1\n",
      "        self.movable = 1\n",
      "    \n",
      "    def update(self, moved):\n",
      "        if moved:\n",
      "            self.movable += 1\n",
      "        else:\n",
      "            self.static += 1\n",
      "            \n",
      "    def __str__(self):\n",
      "        return \"ObjectType: static: {} movable: {}\".format(self.static, self.movable)\n",
      "\n",
      "\n",
      "class JointType(object):\n",
      "    def __init__(self):\n",
      "        self.prismatic = 1 / 3.\n",
      "        self.rotational = 1 / 3.\n",
      "        self.complex_ = 1 / 3\n",
      "    \n",
      "    def update(self, motion_type, from_where, jt_likellihood):\n",
      "        self.rotational *= jt_likellihood[0]\n",
      "        self.prismatic *= jt_likellihood[1]\n",
      "        self.complex_ *= jt_likellihood[2]\n",
      "        \n",
      "        normalizer = sum([self.rotational, self.prismatic, self.complex_])\n",
      "        \n",
      "        self.rotational /= normalizer\n",
      "        self.prismatic /= normalizer\n",
      "        self.complex_ /= normalizer\n",
      "        \n",
      "                \n",
      "    def __str__(self):\n",
      "        return \"JointType: pris: {} rot: {} complex: {}\".format(\n",
      "            self.prismatic, self.rotational, self.complex_\n",
      "        )"
     ],
     "language": "python",
     "metadata": {},
     "outputs": []
    },
    {
     "cell_type": "code",
     "collapsed": false,
     "input": [
      "bel = Bel()\n",
      "obj = ComplexObect()\n",
      "print bel"
     ],
     "language": "python",
     "metadata": {},
     "outputs": []
    },
    {
     "cell_type": "code",
     "collapsed": false,
     "input": [
      "from_where = PushDirection.Y\n",
      "moved, motion_type = obj.push(from_where)\n",
      "jt_likelihood = (.1, .1, .8)\n",
      "bel.update(from_where, moved, motion_type, jt_likelihood)\n",
      "print bel"
     ],
     "language": "python",
     "metadata": {},
     "outputs": []
    }
   ],
   "metadata": {}
  }
 ]
}