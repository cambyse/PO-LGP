{
 "metadata": {
  "name": ""
 },
 "nbformat": 3,
 "nbformat_minor": 0,
 "worksheets": [
  {
   "cells": [
    {
     "cell_type": "code",
     "collapsed": false,
     "input": [
      "from __future__ import division\n",
      "import math\n",
      "\n",
      "import numpy as np\n",
      "import scipy as sp\n",
      "import scipy.stats as ss\n",
      "\n",
      "\n",
      "import matplotlib.pyplot as plt\n",
      "from mpl_toolkits.mplot3d import Axes3D\n",
      "import seaborn as sns\n",
      "%matplotlib inline"
     ],
     "language": "python",
     "metadata": {},
     "outputs": [],
     "prompt_number": 288
    },
    {
     "cell_type": "markdown",
     "metadata": {},
     "source": [
      "# Complex objects\n",
      "In the previous experiments me found out that exploration strategies in easy-to-learn-worlds, i.e. one interactions teaches the agent everything about the object, do not matter much/at all. Or the other way around: stratigies might matter if more than one interaction is needed to \"learn\" an object. Even more so if one needs specific interactions (push from left AND push from right).\n",
      "\n",
      "## What objects are interesting\n",
      "Objects that need more than one interaction. Still, the complexity must be managable for our first experiments.\n",
      "\n",
      "Examples for these experiments:\n",
      "\n",
      "- rolling couch table (let's call it `ComplexObject`)\n",
      "- kicker table\n",
      "- door with door handle (prob. too complex)\n",
      "\n",
      "The rolling couch table can be (simplified) and modeled as a 2 DoF prismatic joint.\n",
      "\n",
      "We need to think about:\n",
      "\n",
      "- how to model the belief\n",
      "- how to calculate the belief\n",
      "- how to select the action, not just the object to interact with\n"
     ]
    },
    {
     "cell_type": "markdown",
     "metadata": {},
     "source": [
      "# Model the belief\n",
      "Let's assume we only have the 2D table in the world. We only have a belief of this table.\n",
      "\n",
      "The `ComplexObject` can be pushed along `X` and `Y` and moves."
     ]
    },
    {
     "cell_type": "code",
     "collapsed": false,
     "input": [
      "class ComplexObect(object):\n",
      "    def __init__(self):\n",
      "        pass\n",
      "    \n",
      "    def push(self, from_where):\n",
      "        \"\"\"Return of the object moved when is was pushd from `from_where`.\"\"\"\n",
      "        if from_where in [PushDirection.X, PushDirection.Y]:\n",
      "            return True, MotionType.PRIS\n",
      "        return False, None"
     ],
     "language": "python",
     "metadata": {},
     "outputs": [],
     "prompt_number": 215
    },
    {
     "cell_type": "code",
     "collapsed": false,
     "input": [
      "class PushDirection(object):\n",
      "    X = 0\n",
      "    Y = 1\n",
      "\n",
      "    \n",
      "class MotionType(object):\n",
      "    ROT = 0\n",
      "    PRIS = 1"
     ],
     "language": "python",
     "metadata": {},
     "outputs": [],
     "prompt_number": 216
    },
    {
     "cell_type": "code",
     "collapsed": false,
     "input": [
      "class Bel(object):\n",
      "    \"\"\"Belief over the ComplexObject\"\"\"\n",
      "    def __init__(self):\n",
      "        self.object_type = ObjectType()\n",
      "        self.joint_type = JointType()\n",
      "\n",
      "    def update(self, from_where, moved, motion_type=None, jt_likellihood=None):\n",
      "        self.object_type.update(moved)\n",
      "        \n",
      "        if moved:\n",
      "            self.joint_type.update(motion_type, from_where, jt_likellihood)\n",
      "    \n",
      "    def __str__(self):\n",
      "        return str(self.object_type) + \"\\n\" + str(self.joint_type)\n",
      "    \n",
      "    \n",
      "class ObjectType(object):\n",
      "    def __init__(self):\n",
      "        self.static = 1\n",
      "        self.movable = 1\n",
      "    \n",
      "    def update(self, moved):\n",
      "        if moved:\n",
      "            self.movable += 1\n",
      "        else:\n",
      "            self.static += 1\n",
      "                \n",
      "    def H(self):\n",
      "        return ss.beta.entropy(self.static, self.movable)\n",
      "    \n",
      "    def change_of_H():\n",
      "        mu = ss.beta.mean(self.static, self.movable)\n",
      "        p1 = mu\n",
      "        p2 = 1 - mu     \n",
      "    \n",
      "    def __str__(self):\n",
      "        return \"ObjectType: static: {} movable: {}\".format(self.static, self.movable)\n",
      "\n",
      "\n",
      "class JointType(object):\n",
      "    def __init__(self):\n",
      "        self.n = 3\n",
      "        # [0]: rotational\n",
      "        # [1]: self.prismatic\n",
      "        # [2]: self.complex_\n",
      "        self.p = [1 / 3. for i in range(self.n)]\n",
      "    \n",
      "    def update(self, motion_type, from_where, jt_likellihood):\n",
      "        for i in range(self.n):\n",
      "            self.p[i] *= jt_likelihood[i]\n",
      "        \n",
      "        normalizer = sum(self.p)\n",
      "        for i in range(self.n):\n",
      "            self.p[i] /= normalizer\n",
      "    \n",
      "    def H(self):\n",
      "        result = - sum([self.p[i] * math.log(self.p[i]) for i in range(self.n)])\n",
      "        \n",
      "        return result\n",
      "                \n",
      "    def __str__(self):\n",
      "        return \"JointType: pris: {:.2f} rot: {:.2f} complex: {:.2f}\".format(\n",
      "            self.p[0], self.p[1], self.p[2])"
     ],
     "language": "python",
     "metadata": {},
     "outputs": [],
     "prompt_number": 381
    },
    {
     "cell_type": "code",
     "collapsed": false,
     "input": [
      "bel = Bel()\n",
      "obj = ComplexObect()\n",
      "\n",
      "H_jt = [bel.joint_type.H()]\n",
      "H_ot = [bel.object_type.H()]\n",
      "print bel"
     ],
     "language": "python",
     "metadata": {},
     "outputs": [
      {
       "output_type": "stream",
       "stream": "stdout",
       "text": [
        "ObjectType: static: 1 movable: 1\n",
        "JointType: pris: 0.33 rot: 0.33 complex: 0.33\n"
       ]
      }
     ],
     "prompt_number": 417
    },
    {
     "cell_type": "markdown",
     "metadata": {},
     "source": [
      "Execute the following a sew times, maybe change the `jt_likelihood`."
     ]
    },
    {
     "cell_type": "code",
     "collapsed": false,
     "input": [
      "from_where = PushDirection.Y\n",
      "moved, motion_type = obj.push(from_where)\n",
      "jt_likelihood = (.1, .8, .1)\n",
      "bel.update(from_where, moved, motion_type, jt_likelihood)\n",
      "print bel\n",
      "H_jt.append(bel.joint_type.H())\n",
      "H_ot.append(bel.object_type.H())"
     ],
     "language": "python",
     "metadata": {},
     "outputs": [
      {
       "output_type": "stream",
       "stream": "stdout",
       "text": [
        "ObjectType: static: 1 movable: 11\n",
        "JointType: pris: 0.00 rot: 1.00 complex: 0.00\n"
       ]
      },
      {
       "output_type": "stream",
       "stream": "stdout",
       "text": [
        "ObjectType: static: 1 movable: 12\n",
        "JointType: pris: 0.00 rot: 1.00 complex: 0.00\n"
       ]
      }
     ],
     "prompt_number": 428
    },
    {
     "cell_type": "code",
     "collapsed": false,
     "input": [
      "fig, ax = plt.subplots()\n",
      "ax.plot(H_jt, label=\"joint type\")\n",
      "ax.plot(H_ot, label=\"object type\")\n",
      "ax.legend()\n",
      "ax.set_title(\"Entropy over # interactions\")\n",
      "ax.set_ylabel(\"Entropy\")\n",
      "ax.set_xlabel(\"# interarctions\")\n",
      "\n",
      "print;"
     ],
     "language": "python",
     "metadata": {},
     "outputs": [
      {
       "output_type": "stream",
       "stream": "stdout",
       "text": [
        "\n"
       ]
      },
      {
       "metadata": {},
       "output_type": "display_data",
       "png": "[encoded data removed]",
       "text": [
        "<matplotlib.figure.Figure at 0x558fd50>"
       ]
      }
     ],
     "prompt_number": 429
    },
    {
     "cell_type": "markdown",
     "metadata": {},
     "source": [
      "\"One must take care in trying to apply properties of discrete entropy to differential entropy, since probability density functions can be greater than 1.\" -- http://en.wikipedia.org/wiki/Differential_entropy#Definition"
     ]
    },
    {
     "cell_type": "code",
     "collapsed": false,
     "input": [
      "fig, ax = plt.subplots()\n",
      "ax.plot([elem - math.log(3) for elem in H_jt], label=\"joint type\")\n",
      "ax.plot([elem - math.log(1) for elem in H_ot], label=\"object type\")\n",
      "ax.legend()\n",
      "ax.set_title(\"Entropy over # interactions\")\n",
      "ax.set_ylabel(\"Entropy\")\n",
      "ax.set_xlabel(\"# interarctions\")"
     ],
     "language": "python",
     "metadata": {},
     "outputs": [
      {
       "metadata": {},
       "output_type": "pyout",
       "prompt_number": 441,
       "text": [
        "<matplotlib.text.Text at 0x6ae9ad0>"
       ]
      },
      {
       "metadata": {},
       "output_type": "display_data",
       "png": "[encoded data removed]",
       "text": [
        "<matplotlib.figure.Figure at 0x62abb50>"
       ]
      }
     ],
     "prompt_number": 441
    },
    {
     "cell_type": "markdown",
     "metadata": {},
     "source": [
      "entropy\n",
      "sampel\n",
      "simplify--> gauss\n",
      "--> entropy"
     ]
    },
    {
     "cell_type": "code",
     "collapsed": false,
     "input": [],
     "language": "python",
     "metadata": {},
     "outputs": []
    }
   ],
   "metadata": {}
  }
 ]
}