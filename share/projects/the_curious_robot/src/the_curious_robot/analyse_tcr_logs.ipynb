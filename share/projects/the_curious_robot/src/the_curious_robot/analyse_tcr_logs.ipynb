{
 "metadata": {
  "name": ""
 },
 "nbformat": 3,
 "nbformat_minor": 0,
 "worksheets": [
  {
   "cells": [
    {
     "cell_type": "markdown",
     "metadata": {},
     "source": [
      "# Analyse TCR Logs"
     ]
    },
    {
     "cell_type": "code",
     "collapsed": false,
     "input": [
      "from __future__ import division\n",
      "%matplotlib inline\n",
      "\n",
      "import matplotlib\n",
      "import matplotlib.pyplot as plt\n",
      "import numpy as np\n",
      "import scipy.stats as ss\n",
      "import pandas as pd\n",
      "\n",
      "import os\n",
      "import pickle\n",
      "import datetime\n",
      "\n",
      "# ROS\n",
      "import roslib\n",
      "roslib.load_manifest('the_curious_robot')\n",
      "import the_curious_robot"
     ],
     "language": "python",
     "metadata": {},
     "outputs": [],
     "prompt_number": 1
    },
    {
     "cell_type": "markdown",
     "metadata": {},
     "source": [
      "Let's select the path of the latest recording:"
     ]
    },
    {
     "cell_type": "code",
     "collapsed": false,
     "input": [
      "log_path = \"/home/stefan/.ros/log_tcr/random/\"\n",
      "log_path = \"/home/stefan/.ros/log_tcr/entropy_max/\"\n",
      "folders = os.listdir(log_path)\n",
      "print \"All folders:\", folders\n",
      "\n",
      "latest_path = os.path.join(log_path, max(folders))\n",
      "print \"The latets recording is stored in {}\".format(latest_path)"
     ],
     "language": "python",
     "metadata": {},
     "outputs": [
      {
       "output_type": "stream",
       "stream": "stdout",
       "text": [
        "['2014-01-15 14:42:20', '2014-01-15 14:46:10']\n",
        "The latets recording is stored in /home/stefan/.ros/log_tcr/entropy_max/2014-01-15 14:46:10\n"
       ]
      }
     ],
     "prompt_number": 45
    },
    {
     "cell_type": "markdown",
     "metadata": {},
     "source": [
      "And parse the recording:"
     ]
    },
    {
     "cell_type": "code",
     "collapsed": false,
     "input": [
      "history = []\n",
      "for dirname, dirnames, filenames in os.walk(latest_path):\n",
      "    # print path to all filenames.\n",
      "    filenames.sort()\n",
      "    for filename in filenames:\n",
      "        print \"loading\", filename\n",
      "        timestamp = datetime.datetime.strptime(filename, \"%Y-%m-%d %H:%M:%S.%f.pkl\")\n",
      "        filename = os.path.join(dirname, filename)        \n",
      "        history.append((timestamp, pickle.load(open(filename))))\n",
      "\n",
      "print \"We loaded {} entries\".format(len(history))\n",
      "        \n",
      "# we want the data sorted by time\n",
      "#history.sort()\n",
      "\n",
      "# split history in time and data\n",
      "timestamps = [point_in_time for point_in_time, _ in history]\n",
      "timestamps_mpl = matplotlib.dates.date2num(timestamps)\n",
      "data_raw = [elem for _, elem in history]\n",
      "\n",
      "# num_discovered_shapes\n",
      "num_discovered_shapes = [len(d) for d in data_raw]\n",
      "# num_discovered_properties\n",
      "num_discovered_properties = []\n",
      "for annotation in data_raw:\n",
      "    x = 0\n",
      "    for bel_shape in annotation.itervalues():\n",
      "        if bel_shape.object_type:\n",
      "            x += 1\n",
      "        if bel_shape.joint:\n",
      "            x += 1\n",
      "    num_discovered_properties.append(x)\n",
      "# entropy\n",
      "total_entropies = []\n",
      "for anno in data_raw:\n",
      "    ent = anno.get_entropy()\n",
      "    total_entropies.append(sum([e for _, e in ent]))\n",
      "\n",
      "df = pd.DataFrame(index=timestamps,\n",
      "    data={\"timestamps_mpl\": timestamps_mpl,  \n",
      "          \"num_shapes\": num_discovered_shapes,\n",
      "          \"num_properties\": num_discovered_properties,\n",
      "          \"entropies\": total_entropies,\n",
      "    }\n",
      ")"
     ],
     "language": "python",
     "metadata": {},
     "outputs": [
      {
       "output_type": "stream",
       "stream": "stdout",
       "text": [
        "loading 2014-01-15 14:46:38.243898.pkl\n",
        "loading 2014-01-15 14:46:57.611233.pkl\n",
        "loading 2014-01-15 14:47:24.489945.pkl\n",
        "loading 2014-01-15 14:47:51.479571.pkl\n",
        "loading 2014-01-15 14:48:20.125652.pkl\n",
        "We loaded 5 entries\n"
       ]
      }
     ],
     "prompt_number": 49
    },
    {
     "cell_type": "code",
     "collapsed": false,
     "input": [
      "print history[0][0]\n",
      "print history[0][1]\n",
      "\n",
      "print history[1][0]\n",
      "print history[1][1]"
     ],
     "language": "python",
     "metadata": {},
     "outputs": [
      {
       "output_type": "stream",
       "stream": "stdout",
       "text": [
        "2014-01-15 14:46:38.243898\n",
        "\n",
        "============================================================\n",
        "belief annotation (1 items)\n",
        "============================================================\n",
        "ID 2\n",
        "    object_type: Beta(static=2, free=1) -> H=-0.19314718056\n",
        "    joint: None\n",
        "\n",
        "============================================================\n",
        "2014-01-15 14:46:57.611233\n",
        "\n",
        "============================================================\n",
        "belief annotation (2 items)\n",
        "============================================================\n",
        "ID 2\n",
        "    object_type: Beta(static=2, free=1) -> H=-0.19314718056\n",
        "    joint: None\n",
        "\n",
        "ID 3\n",
        "    object_type: Beta(static=2, free=1) -> H=-0.19314718056\n",
        "    joint: None\n",
        "\n",
        "============================================================\n"
       ]
      }
     ],
     "prompt_number": 50
    },
    {
     "cell_type": "markdown",
     "metadata": {},
     "source": [
      "Just print the number of discovered object over time:"
     ]
    },
    {
     "cell_type": "code",
     "collapsed": false,
     "input": [
      "fig, ax = plt.subplots()\n",
      "ax.plot_date(df.index, df.num_shapes)\n",
      "ax.set_title(\"Discovered Objects over time\");\n",
      "ax.grid();"
     ],
     "language": "python",
     "metadata": {},
     "outputs": [
      {
       "metadata": {},
       "output_type": "display_data",
       "png": "[encoded data removed]",
       "text": [
        "<matplotlib.figure.Figure at 0x4a6acd0>"
       ]
      }
     ],
     "prompt_number": 51
    },
    {
     "cell_type": "markdown",
     "metadata": {},
     "source": [
      "Number of discovered properties over time:"
     ]
    },
    {
     "cell_type": "code",
     "collapsed": false,
     "input": [
      "fig, ax = plt.subplots()\n",
      "ax.plot_date(df.index, df.num_properties)\n",
      "ax.set_title(\"Discovered Properties over time\");\n",
      "ax.grid();"
     ],
     "language": "python",
     "metadata": {},
     "outputs": [
      {
       "metadata": {},
       "output_type": "display_data",
       "png": "[encoded data removed]",
       "text": [
        "<matplotlib.figure.Figure at 0x2e79850>"
       ]
      }
     ],
     "prompt_number": 52
    },
    {
     "cell_type": "code",
     "collapsed": false,
     "input": [
      "fig, ax = plt.subplots()\n",
      "ax.plot_date(timestamps_mpl, total_entropies);\n",
      "ax.set_title(\"Overall entropy over time\");\n",
      "ax.grid();"
     ],
     "language": "python",
     "metadata": {},
     "outputs": [
      {
       "metadata": {},
       "output_type": "display_data",
       "png": "[encoded data removed]",
       "text": [
        "<matplotlib.figure.Figure at 0x4813e10>"
       ]
      }
     ],
     "prompt_number": 53
    },
    {
     "cell_type": "code",
     "collapsed": false,
     "input": [
      "print df.head()"
     ],
     "language": "python",
     "metadata": {},
     "outputs": [
      {
       "output_type": "stream",
       "stream": "stdout",
       "text": [
        "                            entropies  num_properties  num_shapes  \\\n",
        "2014-01-15 14:46:38.243898  -0.193147               1           1   \n",
        "2014-01-15 14:46:57.611233  -0.386294               2           2   \n",
        "2014-01-15 14:47:24.489945  -0.579442               3           3   \n",
        "2014-01-15 14:47:51.479571  -0.965736               5           4   \n",
        "2014-01-15 14:48:20.125652  -1.352030               7           5   \n",
        "\n",
        "                            timestamps_mpl  \n",
        "2014-01-15 14:46:38.243898   735248.615720  \n",
        "2014-01-15 14:46:57.611233   735248.615945  \n",
        "2014-01-15 14:47:24.489945   735248.616256  \n",
        "2014-01-15 14:47:51.479571   735248.616568  \n",
        "2014-01-15 14:48:20.125652   735248.616900  \n"
       ]
      }
     ],
     "prompt_number": 54
    },
    {
     "cell_type": "code",
     "collapsed": false,
     "input": [],
     "language": "python",
     "metadata": {},
     "outputs": []
    }
   ],
   "metadata": {}
  }
 ]
}