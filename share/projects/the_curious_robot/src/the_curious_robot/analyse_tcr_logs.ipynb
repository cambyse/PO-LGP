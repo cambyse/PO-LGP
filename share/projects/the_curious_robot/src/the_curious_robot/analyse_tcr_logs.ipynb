{
 "metadata": {
  "name": ""
 },
 "nbformat": 3,
 "nbformat_minor": 0,
 "worksheets": [
  {
   "cells": [
    {
     "cell_type": "markdown",
     "metadata": {},
     "source": [
      "# Analyse TCR Logs"
     ]
    },
    {
     "cell_type": "code",
     "collapsed": false,
     "input": [
      "from __future__ import division\n",
      "\n",
      "import matplotlib\n",
      "import matplotlib.pyplot as plt\n",
      "\n",
      "import numpy as np\n",
      "import scipy.stats as ss\n",
      "import pandas as pd\n",
      "\n",
      "import os\n",
      "import pickle\n",
      "import datetime\n",
      "\n",
      "# ROS\n",
      "import roslib\n",
      "roslib.load_manifest('the_curious_robot')\n",
      "import the_curious_robot\n",
      "%matplotlib inline\n",
      "%load_ext autoreload\n",
      "%autoreload 2"
     ],
     "language": "python",
     "metadata": {},
     "outputs": [],
     "prompt_number": 1
    },
    {
     "cell_type": "markdown",
     "metadata": {},
     "source": [
      "Let's select the path of the latest recording:"
     ]
    },
    {
     "cell_type": "code",
     "collapsed": false,
     "input": [
      "def get_folders(strategy):\n",
      "    log_path = \"/home/stefan/.ros/log_tcr/\" + strategy\n",
      "    folders = os.listdir(log_path)\n",
      "    folders.sort()\n",
      "    print \"All folders for strategy '{}': {}\".format(strategy, folders)\n",
      "    folders = [os.path.join(log_path, folder) for folder in folders]\n",
      "    return folders"
     ],
     "language": "python",
     "metadata": {},
     "outputs": [],
     "prompt_number": 2
    },
    {
     "cell_type": "markdown",
     "metadata": {},
     "source": [
      "And parse the recording:"
     ]
    },
    {
     "cell_type": "code",
     "collapsed": false,
     "input": [
      "def parse_data(path):\n",
      "    history = []\n",
      "    for dirname, dirnames, filenames in os.walk(path):\n",
      "        # print path to all filenames.\n",
      "        filenames.sort()\n",
      "        for filename in filenames:\n",
      "            print \".\",\n",
      "            timestamp = datetime.datetime.strptime(filename, \"%Y-%m-%d %H:%M:%S.%f.pkl\")\n",
      "            filename = os.path.join(dirname, filename)        \n",
      "            history.append((timestamp, pickle.load(open(filename))))\n",
      "\n",
      "    print \"\\n{} entries loaded\".format(len(history))\n",
      "    return history, len(history)"
     ],
     "language": "python",
     "metadata": {},
     "outputs": [],
     "prompt_number": 8
    },
    {
     "cell_type": "markdown",
     "metadata": {},
     "source": [
      "Extract useful information and save it in a dataframe."
     ]
    },
    {
     "cell_type": "code",
     "collapsed": false,
     "input": [
      "def create_dataframe(data):\n",
      "    # split history in time and data\n",
      "    timestamps = [point_in_time for point_in_time, _ in data]\n",
      "    timestamps_mpl = matplotlib.dates.date2num(timestamps)\n",
      "    data_raw = [elem for _, elem in data]\n",
      "    \n",
      "#     # num_discovered_shapes\n",
      "#     num_discovered_shapes = [len(d) for d in data_raw]\n",
      "#     # num_discovered_properties\n",
      "#     num_discovered_properties = []\n",
      "#     for bel in data_raw:\n",
      "#         x = 0\n",
      "#         for obj in bel.itervalues():\n",
      "#             if bel_shape.object_bel:\n",
      "#                 x += 1\n",
      "#             if bel_shape.joint:\n",
      "#                 x += 1\n",
      "#         num_discovered_properties.append(x)\n",
      "    # entropy\n",
      "    total_entropies = []\n",
      "    for bel in data_raw:\n",
      "        total_entropies.append(bel.get_total_entropy())\n",
      "    \n",
      "    # save in dataframe\n",
      "    df = pd.DataFrame(\n",
      "        data={\"timestamps\": timestamps,\n",
      "              \"timestamps_mpl\": timestamps_mpl,  \n",
      "              #\"num_shapes\": num_discovered_shapes,\n",
      "              #\"num_properties\": num_discovered_properties,\n",
      "              \"entropy\": total_entropies,\n",
      "        }\n",
      "    )\n",
      "    \n",
      "    return df"
     ],
     "language": "python",
     "metadata": {},
     "outputs": [],
     "prompt_number": 4
    },
    {
     "cell_type": "markdown",
     "metadata": {},
     "source": [
      "# Plots: Entropy over time"
     ]
    },
    {
     "cell_type": "code",
     "collapsed": false,
     "input": [
      "#folder_entropy = get_folders(\"entropy_max\")[-1]\n",
      "folders_random = get_folders(\"random\")\n",
      "folders_sequential = get_folders(\"sequential\")\n",
      "\n",
      "min_length = 4\n",
      "\n",
      "random_dfs = []\n",
      "for folder in folders_random:\n",
      "    data_raw, n = parse_data(folder)\n",
      "    if n > min_length:\n",
      "        random_dfs.append(create_dataframe(data_raw))\n",
      "    \n",
      "sequential_dfs = []\n",
      "for folder in folders_sequential:\n",
      "    data_raw, n = parse_data(folder)\n",
      "    if n > min_length:\n",
      "        sequential_dfs.append(create_dataframe(data_raw))\n",
      "\n",
      "#data_raw_sequential = parse_data(folder_sequential)\n",
      "#df_entropy = create_dataframe(data_raw_entropy)\n",
      "#df_random = create_dataframe(data_raw_random)\n",
      "#df_sequential = create_dataframe(data_raw_sequential)\n",
      "#df_data = create_dataframe(data)\n",
      "\n",
      "fig, ax = plt.subplots()\n",
      "# ax.plot(df_entropy.index, df_entropy.entropy, label=\"entropy max\");\n",
      "\n",
      "for i, df_random in enumerate(random_dfs):\n",
      "    label = \"Random\" if i == 0 else \"\"\n",
      "    ax.plot(df_random.index, df_random.entropy, label=label, color=\"blue\");\n",
      "\n",
      "for i, df in enumerate(sequential_dfs):\n",
      "    label = \"Sequential\" if i == 0 else \"\"\n",
      "    ax.plot(df.index, df.entropy, label=label, color=\"red\");\n",
      "\n",
      "ax.set_title(\"Overall entropy over time\");\n",
      "ax.legend(loc=\"best\")\n",
      "ax.grid();\n",
      "ax.set_xlabel(\"number of interactions\")\n",
      "ax.set_ylabel(\"total entropy\")\n",
      "fig.savefig(\"real_world-entropy_over_time.png\")"
     ],
     "language": "python",
     "metadata": {},
     "outputs": [
      {
       "output_type": "stream",
       "stream": "stdout",
       "text": [
        "All folders for strategy 'random': ['2014-02-04 15:19:34', '2014-02-04 16:54:59']\n",
        "All folders for strategy 'sequential': ['2014-02-04 12:19:29', '2014-02-05 09:38:00']\n",
        "."
       ]
      },
      {
       "output_type": "stream",
       "stream": "stdout",
       "text": [
        " . . . . . . . . . . "
       ]
      },
      {
       "output_type": "stream",
       "stream": "stdout",
       "text": [
        ". . . . . . . "
       ]
      },
      {
       "output_type": "stream",
       "stream": "stdout",
       "text": [
        ". . . . . . "
       ]
      },
      {
       "output_type": "stream",
       "stream": "stdout",
       "text": [
        ". . . . . "
       ]
      },
      {
       "output_type": "stream",
       "stream": "stdout",
       "text": [
        ". . . . . "
       ]
      },
      {
       "output_type": "stream",
       "stream": "stdout",
       "text": [
        ". . . . . "
       ]
      },
      {
       "output_type": "stream",
       "stream": "stdout",
       "text": [
        ". . . . "
       ]
      },
      {
       "output_type": "stream",
       "stream": "stdout",
       "text": [
        ". . . . "
       ]
      },
      {
       "output_type": "stream",
       "stream": "stdout",
       "text": [
        ". . . . "
       ]
      },
      {
       "output_type": "stream",
       "stream": "stdout",
       "text": [
        ". . . . "
       ]
      },
      {
       "output_type": "stream",
       "stream": "stdout",
       "text": [
        ". . . "
       ]
      },
      {
       "output_type": "stream",
       "stream": "stdout",
       "text": [
        ". . . "
       ]
      },
      {
       "output_type": "stream",
       "stream": "stdout",
       "text": [
        ". . . . "
       ]
      },
      {
       "output_type": "stream",
       "stream": "stdout",
       "text": [
        ". . . . "
       ]
      },
      {
       "output_type": "stream",
       "stream": "stdout",
       "text": [
        ". . "
       ]
      },
      {
       "output_type": "stream",
       "stream": "stdout",
       "text": [
        ". . "
       ]
      },
      {
       "output_type": "stream",
       "stream": "stdout",
       "text": [
        ". . \n",
        "75 entries loaded\n",
        "."
       ]
      },
      {
       "output_type": "stream",
       "stream": "stdout",
       "text": [
        " . . . . . . . . "
       ]
      },
      {
       "output_type": "stream",
       "stream": "stdout",
       "text": [
        ". . . . "
       ]
      },
      {
       "output_type": "stream",
       "stream": "stdout",
       "text": [
        ". . . "
       ]
      },
      {
       "output_type": "stream",
       "stream": "stdout",
       "text": [
        ". . . . . . "
       ]
      },
      {
       "output_type": "stream",
       "stream": "stdout",
       "text": [
        ". . . . . "
       ]
      },
      {
       "output_type": "stream",
       "stream": "stdout",
       "text": [
        ". . . . . "
       ]
      },
      {
       "output_type": "stream",
       "stream": "stdout",
       "text": [
        ". . . . "
       ]
      },
      {
       "output_type": "stream",
       "stream": "stdout",
       "text": [
        ". . . . "
       ]
      },
      {
       "output_type": "stream",
       "stream": "stdout",
       "text": [
        ". . . . "
       ]
      },
      {
       "output_type": "stream",
       "stream": "stdout",
       "text": [
        ". . . . "
       ]
      },
      {
       "output_type": "stream",
       "stream": "stdout",
       "text": [
        ". . . . "
       ]
      },
      {
       "output_type": "stream",
       "stream": "stdout",
       "text": [
        ". . . . "
       ]
      },
      {
       "output_type": "stream",
       "stream": "stdout",
       "text": [
        ". . . . "
       ]
      },
      {
       "output_type": "stream",
       "stream": "stdout",
       "text": [
        ". . . . "
       ]
      },
      {
       "output_type": "stream",
       "stream": "stdout",
       "text": [
        ". . . . "
       ]
      },
      {
       "output_type": "stream",
       "stream": "stdout",
       "text": [
        ". . . "
       ]
      },
      {
       "output_type": "stream",
       "stream": "stdout",
       "text": [
        ". . . "
       ]
      },
      {
       "output_type": "stream",
       "stream": "stdout",
       "text": [
        ". . "
       ]
      },
      {
       "output_type": "stream",
       "stream": "stdout",
       "text": [
        ". . . . "
       ]
      },
      {
       "output_type": "stream",
       "stream": "stdout",
       "text": [
        ". . . . "
       ]
      },
      {
       "output_type": "stream",
       "stream": "stdout",
       "text": [
        ". . . . "
       ]
      },
      {
       "output_type": "stream",
       "stream": "stdout",
       "text": [
        ". . . . "
       ]
      },
      {
       "output_type": "stream",
       "stream": "stdout",
       "text": [
        ". . . . "
       ]
      },
      {
       "output_type": "stream",
       "stream": "stdout",
       "text": [
        ". . . . "
       ]
      },
      {
       "output_type": "stream",
       "stream": "stdout",
       "text": [
        ". . . . "
       ]
      },
      {
       "output_type": "stream",
       "stream": "stdout",
       "text": [
        ". . . . "
       ]
      },
      {
       "output_type": "stream",
       "stream": "stdout",
       "text": [
        ". . . . "
       ]
      },
      {
       "output_type": "stream",
       "stream": "stdout",
       "text": [
        ". . . . "
       ]
      },
      {
       "output_type": "stream",
       "stream": "stdout",
       "text": [
        ". . . . "
       ]
      },
      {
       "output_type": "stream",
       "stream": "stdout",
       "text": [
        ". . . . "
       ]
      },
      {
       "output_type": "stream",
       "stream": "stdout",
       "text": [
        ". . . . "
       ]
      },
      {
       "output_type": "stream",
       "stream": "stdout",
       "text": [
        ". . . . "
       ]
      },
      {
       "output_type": "stream",
       "stream": "stdout",
       "text": [
        ". . . . "
       ]
      },
      {
       "output_type": "stream",
       "stream": "stdout",
       "text": [
        ". . "
       ]
      },
      {
       "output_type": "stream",
       "stream": "stdout",
       "text": [
        ". . . "
       ]
      },
      {
       "output_type": "stream",
       "stream": "stdout",
       "text": [
        ". . . "
       ]
      },
      {
       "output_type": "stream",
       "stream": "stdout",
       "text": [
        "\n",
        "144 entries loaded\n",
        "."
       ]
      },
      {
       "output_type": "stream",
       "stream": "stdout",
       "text": [
        " . . . . . . . . . "
       ]
      },
      {
       "output_type": "stream",
       "stream": "stdout",
       "text": [
        ". . . "
       ]
      },
      {
       "output_type": "stream",
       "stream": "stdout",
       "text": [
        ". . . . "
       ]
      },
      {
       "output_type": "stream",
       "stream": "stdout",
       "text": [
        ". . . . . "
       ]
      },
      {
       "output_type": "stream",
       "stream": "stdout",
       "text": [
        ". . . "
       ]
      },
      {
       "output_type": "stream",
       "stream": "stdout",
       "text": [
        ". . . . "
       ]
      },
      {
       "output_type": "stream",
       "stream": "stdout",
       "text": [
        ". . . . "
       ]
      },
      {
       "output_type": "stream",
       "stream": "stdout",
       "text": [
        ". . . . "
       ]
      },
      {
       "output_type": "stream",
       "stream": "stdout",
       "text": [
        ". . . . "
       ]
      },
      {
       "output_type": "stream",
       "stream": "stdout",
       "text": [
        ". . . . "
       ]
      },
      {
       "output_type": "stream",
       "stream": "stdout",
       "text": [
        ". . "
       ]
      },
      {
       "output_type": "stream",
       "stream": "stdout",
       "text": [
        ". . . . "
       ]
      },
      {
       "output_type": "stream",
       "stream": "stdout",
       "text": [
        ". . "
       ]
      },
      {
       "output_type": "stream",
       "stream": "stdout",
       "text": [
        ". "
       ]
      },
      {
       "output_type": "stream",
       "stream": "stdout",
       "text": [
        ". "
       ]
      },
      {
       "output_type": "stream",
       "stream": "stdout",
       "text": [
        ". . "
       ]
      },
      {
       "output_type": "stream",
       "stream": "stdout",
       "text": [
        ". . . "
       ]
      },
      {
       "output_type": "stream",
       "stream": "stdout",
       "text": [
        ". . . "
       ]
      },
      {
       "output_type": "stream",
       "stream": "stdout",
       "text": [
        ". . . . "
       ]
      },
      {
       "output_type": "stream",
       "stream": "stdout",
       "text": [
        ". . . "
       ]
      },
      {
       "output_type": "stream",
       "stream": "stdout",
       "text": [
        ". . "
       ]
      },
      {
       "output_type": "stream",
       "stream": "stdout",
       "text": [
        ". . "
       ]
      },
      {
       "output_type": "stream",
       "stream": "stdout",
       "text": [
        ". "
       ]
      },
      {
       "output_type": "stream",
       "stream": "stdout",
       "text": [
        ". "
       ]
      },
      {
       "output_type": "stream",
       "stream": "stdout",
       "text": [
        ". . "
       ]
      },
      {
       "output_type": "stream",
       "stream": "stdout",
       "text": [
        ". . "
       ]
      },
      {
       "output_type": "stream",
       "stream": "stdout",
       "text": [
        ". . . . "
       ]
      },
      {
       "output_type": "stream",
       "stream": "stdout",
       "text": [
        ". . . "
       ]
      },
      {
       "output_type": "stream",
       "stream": "stdout",
       "text": [
        ". \n",
        "88 entries loaded\n",
        "."
       ]
      },
      {
       "output_type": "stream",
       "stream": "stdout",
       "text": [
        " . . . . . . \n",
        "7 entries loaded\n"
       ]
      },
      {
       "metadata": {},
       "output_type": "display_data",
       "png": "[encoded data removed]",
       "text": [
        "<matplotlib.figure.Figure at 0x5ac3d50>"
       ]
      }
     ],
     "prompt_number": 10
    },
    {
     "cell_type": "markdown",
     "metadata": {},
     "source": [
      "# Average over multiple Runs for one strategy\n",
      "\n",
      "Of course we need to average over multiple runs."
     ]
    },
    {
     "cell_type": "code",
     "collapsed": false,
     "input": [
      "folders = get_folders(\"entropy_max\")\n",
      "print folders\n",
      "\n",
      "tmp = []\n",
      "for path in folders:\n",
      "    print path\n",
      "    data_raw = parse_data(path)\n",
      "    df = create_dataframe(data_raw)\n",
      "    tmp.append(df)"
     ],
     "language": "python",
     "metadata": {},
     "outputs": [
      {
       "output_type": "stream",
       "stream": "stdout",
       "text": [
        "All folders for strategy 'entropy_max': ['2014-01-15 14:42:20', '2014-01-15 14:46:10', '2014-01-15 16:47:46', '2014-01-15 16:47:54']\n",
        "['/home/stefan/.ros/log_tcr/entropy_max/2014-01-15 14:42:20', '/home/stefan/.ros/log_tcr/entropy_max/2014-01-15 14:46:10', '/home/stefan/.ros/log_tcr/entropy_max/2014-01-15 16:47:46', '/home/stefan/.ros/log_tcr/entropy_max/2014-01-15 16:47:54']\n",
        "/home/stefan/.ros/log_tcr/entropy_max/2014-01-15 14:42:20\n",
        ". . . . . \n",
        "5 entries loaded\n",
        "/home/stefan/.ros/log_tcr/entropy_max/2014-01-15 14:46:10"
       ]
      },
      {
       "output_type": "stream",
       "stream": "stdout",
       "text": [
        "\n",
        ". . . . . . . . . . . . . . . . . . . "
       ]
      },
      {
       "output_type": "stream",
       "stream": "stdout",
       "text": [
        ". . . . . . . . . . . . . . "
       ]
      },
      {
       "output_type": "stream",
       "stream": "stdout",
       "text": [
        ". . . . . . . . . . . . . . "
       ]
      },
      {
       "output_type": "stream",
       "stream": "stdout",
       "text": [
        ". . . \n",
        "50 entries loaded\n",
        "/home/stefan/.ros/log_tcr/entropy_max/2014-01-15 16:47:46"
       ]
      },
      {
       "output_type": "stream",
       "stream": "stdout",
       "text": [
        "\n",
        "\n",
        "0 entries loaded\n",
        "/home/stefan/.ros/log_tcr/entropy_max/2014-01-15 16:47:54\n",
        ". . . . . . . . . . . . . . . . . . . . . . . . . "
       ]
      },
      {
       "output_type": "stream",
       "stream": "stdout",
       "text": [
        ". . . . . . . . . . . \n",
        "36 entries loaded\n"
       ]
      }
     ],
     "prompt_number": 236
    },
    {
     "cell_type": "code",
     "collapsed": false,
     "input": [
      "H = np.column_stack([t.as_matrix([\"entropy\"])[:23] for t in tmp if len(t) > 6])\n",
      "mean_ = H.mean(axis=1)\n",
      "sigma = H.std(axis=1)\n",
      "\n",
      "fig, ax = plt.subplots(figsize=(12, 8))\n",
      "ax.plot(mean_)\n",
      "ax.fill_between(range(23), mean_ - sigma, mean_ + sigma, color='blue', alpha=0.2)\n",
      "ax.grid();"
     ],
     "language": "python",
     "metadata": {},
     "outputs": [
      {
       "metadata": {},
       "output_type": "display_data",
       "png": "[encoded data removed]",
       "text": [
        "<matplotlib.figure.Figure at 0x573fdd0>"
       ]
      }
     ],
     "prompt_number": 237
    },
    {
     "cell_type": "code",
     "collapsed": false,
     "input": [
      "def eval_runs(strategy):\n",
      "    folders = get_folders(strategy)\n",
      "    print folders\n",
      "\n",
      "    data = []\n",
      "    for path in folders:\n",
      "        print path\n",
      "        data_raw = parse_data(path)\n",
      "        d = process_data(data_raw)\n",
      "        if len(d[\"entropy\"]) < 20:\n",
      "            continue\n",
      "\n",
      "        data.append(d)\n",
      "        \n",
      "    entropy = np.column_stack([d[\"entropy\"][:22] for d in data])\n",
      "    return entropy"
     ],
     "language": "python",
     "metadata": {},
     "outputs": [],
     "prompt_number": 238
    },
    {
     "cell_type": "code",
     "collapsed": false,
     "input": [
      "entropy = eval_runs(\"entropy_max\")\n",
      "entropy"
     ],
     "language": "python",
     "metadata": {},
     "outputs": [
      {
       "output_type": "stream",
       "stream": "stdout",
       "text": [
        "All folders for strategy 'entropy_max': ['2014-01-15 14:42:20', '2014-01-15 14:46:10', '2014-01-15 16:47:46', '2014-01-15 16:47:54']\n",
        "['/home/stefan/.ros/log_tcr/entropy_max/2014-01-15 14:42:20', '/home/stefan/.ros/log_tcr/entropy_max/2014-01-15 14:46:10', '/home/stefan/.ros/log_tcr/entropy_max/2014-01-15 16:47:46', '/home/stefan/.ros/log_tcr/entropy_max/2014-01-15 16:47:54']\n",
        "/home/stefan/.ros/log_tcr/entropy_max/2014-01-15 14:42:20\n",
        ". . . . . \n",
        "5 entries loaded\n",
        "/home/stefan/.ros/log_tcr/entropy_max/2014-01-15 14:46:10"
       ]
      },
      {
       "output_type": "stream",
       "stream": "stdout",
       "text": [
        "\n",
        ". . . . . . . . . . . . . . . . . . . . . . . . . . "
       ]
      },
      {
       "output_type": "stream",
       "stream": "stdout",
       "text": [
        ". . . . . . . . . . . . . . . . "
       ]
      },
      {
       "output_type": "stream",
       "stream": "stdout",
       "text": [
        ". . . . . . . . \n",
        "50 entries loaded\n",
        "/home/stefan/.ros/log_tcr/entropy_max/2014-01-15 16:47:46"
       ]
      },
      {
       "output_type": "stream",
       "stream": "stdout",
       "text": [
        "\n",
        "\n",
        "0 entries loaded\n",
        "/home/stefan/.ros/log_tcr/entropy_max/2014-01-15 16:47:54\n",
        ". . . . . . . . . . . . . . . . . . . . . . . . . "
       ]
      },
      {
       "output_type": "stream",
       "stream": "stdout",
       "text": [
        ". . . . . . . . . . . \n",
        "36 entries loaded\n"
       ]
      },
      {
       "metadata": {},
       "output_type": "pyout",
       "prompt_number": 239,
       "text": [
        "array([[-0.19314718, -0.19314718],\n",
        "       [-0.38629436, -0.38629436],\n",
        "       [-0.57944154, -0.57944154],\n",
        "       [-0.9657359 , -0.9657359 ],\n",
        "       [-1.35203026, -1.35203026],\n",
        "       [-1.73832463, -1.54517744],\n",
        "       [-2.12461899, -1.93147181],\n",
        "       [-2.51091335, -2.31776617],\n",
        "       [-2.70406053, -2.51091335],\n",
        "       [-2.89720771, -2.70406053],\n",
        "       [-3.09035489, -2.89720771],\n",
        "       [-3.47664925, -3.28350207],\n",
        "       [-3.66979643, -3.66979643],\n",
        "       [-3.86294361, -3.86294361],\n",
        "       [-4.24923797, -4.24923797],\n",
        "       [-4.63553233, -4.63553233],\n",
        "       [-4.82867951, -4.82867951],\n",
        "       [-5.02182669, -5.02182669],\n",
        "       [-5.21497388, -5.21497388],\n",
        "       [-5.40812106, -5.40812106],\n",
        "       [-5.60126824, -5.60126824],\n",
        "       [-5.79441542, -5.79441542]])"
       ]
      }
     ],
     "prompt_number": 239
    },
    {
     "cell_type": "code",
     "collapsed": false,
     "input": [
      "def plot_entropy(entropy):\n",
      "    mu = entropy.mean(axis=1)\n",
      "    sigma = entropy.std(axis=1)\n",
      "    \n",
      "    fig, ax = plt.subplots(figsize=(12, 8))\n",
      "    ax.plot(mu, label=\"mean entropy\")\n",
      "    ax.fill_between(range(len(mu)), mu - sigma, mu + sigma, color='blue', alpha=0.2)\n",
      "    ax.legend()\n",
      "    ax.grid();\n",
      "\n",
      "plot_entropy(entropy)"
     ],
     "language": "python",
     "metadata": {},
     "outputs": [
      {
       "metadata": {},
       "output_type": "display_data",
       "png": "[encoded data removed]",
       "text": [
        "<matplotlib.figure.Figure at 0x53e7510>"
       ]
      }
     ],
     "prompt_number": 240
    }
   ],
   "metadata": {}
  }
 ]
}