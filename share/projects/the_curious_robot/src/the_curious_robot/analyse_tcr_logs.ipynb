{
 "metadata": {
  "name": ""
 },
 "nbformat": 3,
 "nbformat_minor": 0,
 "worksheets": [
  {
   "cells": [
    {
     "cell_type": "markdown",
     "metadata": {},
     "source": [
      "# Analyse TCR Logs"
     ]
    },
    {
     "cell_type": "code",
     "collapsed": false,
     "input": [
      "from __future__ import division\n",
      "%matplotlib inline\n",
      "\n",
      "import matplotlib\n",
      "import matplotlib.pyplot as plt\n",
      "import numpy as np\n",
      "import scipy.stats as ss\n",
      "import pandas as pd\n",
      "\n",
      "import os\n",
      "import pickle\n",
      "import datetime\n",
      "\n",
      "# ROS\n",
      "import roslib\n",
      "roslib.load_manifest('the_curious_robot')\n",
      "import the_curious_robot"
     ],
     "language": "python",
     "metadata": {},
     "outputs": [],
     "prompt_number": 98
    },
    {
     "cell_type": "markdown",
     "metadata": {},
     "source": [
      "Let's select the path of the latest recording:"
     ]
    },
    {
     "cell_type": "code",
     "collapsed": false,
     "input": [
      "def get_latest_folder(strategy):\n",
      "    log_path = \"/home/stefan/.ros/log_tcr/\" + strategy\n",
      "    folders = os.listdir(log_path)\n",
      "    print \"All folders:\", folders\n",
      "\n",
      "    latest_folder = os.path.join(log_path, max(folders))\n",
      "    print \"The latets recording is stored in {}\".format(latest_folder)\n",
      "    return latest_folder\n",
      "\n",
      "folder_entropy = get_latest_folder(\"entropy_max\")\n",
      "folder_random = get_latest_folder(\"random\")"
     ],
     "language": "python",
     "metadata": {},
     "outputs": [
      {
       "output_type": "stream",
       "stream": "stdout",
       "text": [
        "All folders: ['2014-01-15 14:42:20', '2014-01-15 14:46:10']\n",
        "The latets recording is stored in /home/stefan/.ros/log_tcr/entropy_max/2014-01-15 14:46:10\n",
        "All folders: ['2014-01-15 15:06:24']\n",
        "The latets recording is stored in /home/stefan/.ros/log_tcr/random/2014-01-15 15:06:24\n"
       ]
      }
     ],
     "prompt_number": 99
    },
    {
     "cell_type": "markdown",
     "metadata": {},
     "source": [
      "And parse the recording:"
     ]
    },
    {
     "cell_type": "code",
     "collapsed": false,
     "input": [
      "def parse_data(path):\n",
      "    history = []\n",
      "    for dirname, dirnames, filenames in os.walk(path):\n",
      "        # print path to all filenames.\n",
      "        filenames.sort()\n",
      "        for filename in filenames:\n",
      "            print \".\",\n",
      "            timestamp = datetime.datetime.strptime(filename, \"%Y-%m-%d %H:%M:%S.%f.pkl\")\n",
      "            filename = os.path.join(dirname, filename)        \n",
      "            history.append((timestamp, pickle.load(open(filename))))\n",
      "\n",
      "    print \"\\n{} entries loaded\".format(len(history))\n",
      "    return history\n",
      "\n",
      "data_raw_entropy = parse_data(folder_entropy)\n",
      "data_raw_random = parse_data(folder_random)"
     ],
     "language": "python",
     "metadata": {},
     "outputs": [
      {
       "output_type": "stream",
       "stream": "stdout",
       "text": [
        ". . . . . . . . . . . . . . . . . . . . . . "
       ]
      },
      {
       "output_type": "stream",
       "stream": "stdout",
       "text": [
        ". . . . . . . . . . "
       ]
      },
      {
       "output_type": "stream",
       "stream": "stdout",
       "text": [
        ". . . . . . . . . . . . . . "
       ]
      },
      {
       "output_type": "stream",
       "stream": "stdout",
       "text": [
        ". . . . \n",
        "50 entries loaded\n",
        ". . . . . . . . . . . . . . . . . . . . . . . . . "
       ]
      },
      {
       "output_type": "stream",
       "stream": "stdout",
       "text": [
        ". . . . . . . . . . . . . . . . . "
       ]
      },
      {
       "output_type": "stream",
       "stream": "stdout",
       "text": [
        ". . \n",
        "44 entries loaded\n"
       ]
      }
     ],
     "prompt_number": 128
    },
    {
     "cell_type": "markdown",
     "metadata": {},
     "source": [
      "Extract useful information and save it in a dataframe."
     ]
    },
    {
     "cell_type": "code",
     "collapsed": false,
     "input": [
      "def create_dataframe(data):\n",
      "    # split history in time and data\n",
      "    timestamps = [point_in_time for point_in_time, _ in data]\n",
      "    timestamps_mpl = matplotlib.dates.date2num(timestamps)\n",
      "    data_raw = [elem for _, elem in data]\n",
      "    \n",
      "    # num_discovered_shapes\n",
      "    num_discovered_shapes = [len(d) for d in data_raw]\n",
      "    # num_discovered_properties\n",
      "    num_discovered_properties = []\n",
      "    for annotation in data_raw:\n",
      "        x = 0\n",
      "        for bel_shape in annotation.itervalues():\n",
      "            if bel_shape.object_type:\n",
      "                x += 1\n",
      "            if bel_shape.joint:\n",
      "                x += 1\n",
      "        num_discovered_properties.append(x)\n",
      "    # entropy\n",
      "    total_entropies = []\n",
      "    for anno in data_raw:\n",
      "        ent = anno.get_entropy()\n",
      "        total_entropies.append(sum([e for _, e in ent]))\n",
      "    \n",
      "    # save in dataframe\n",
      "    df = pd.DataFrame(\n",
      "        data={\"timestamps\": timestamp,\n",
      "              \"timestamps_mpl\": timestamps_mpl,  \n",
      "              \"num_shapes\": num_discovered_shapes,\n",
      "              \"num_properties\": num_discovered_properties,\n",
      "              \"entropy\": total_entropies,\n",
      "        }\n",
      "    )\n",
      "    \n",
      "    return df\n",
      "\n",
      "df_entropy = create_dataframe(data_raw_entropy)\n",
      "df_random = create_dataframe(data_raw_random)"
     ],
     "language": "python",
     "metadata": {},
     "outputs": [],
     "prompt_number": 129
    },
    {
     "cell_type": "markdown",
     "metadata": {},
     "source": [
      "Just print the number of discovered object over time:"
     ]
    },
    {
     "cell_type": "code",
     "collapsed": false,
     "input": [
      "fig, ax = plt.subplots()\n",
      "ax.plot(df_entropy.index, df_entropy.num_shapes, label=\"entropy max\")\n",
      "ax.plot(df_random.index, df_random.num_shapes, label=\"random\")\n",
      "ax.set_title(\"Discovered Objects over time\");\n",
      "ax.legend(loc=\"best\")\n",
      "ax.grid();"
     ],
     "language": "python",
     "metadata": {},
     "outputs": [
      {
       "metadata": {},
       "output_type": "display_data",
       "png": "[encoded data removed]",
       "text": [
        "<matplotlib.figure.Figure at 0x4bfe590>"
       ]
      }
     ],
     "prompt_number": 130
    },
    {
     "cell_type": "markdown",
     "metadata": {},
     "source": [
      "Number of discovered properties over time:"
     ]
    },
    {
     "cell_type": "code",
     "collapsed": false,
     "input": [
      "fig, ax = plt.subplots()\n",
      "ax.plot(df_entropy.index, df_entropy.num_properties,label=\"entropy max\")\n",
      "ax.plot(df_random.index, df_random.num_properties, label=\"random\")\n",
      "ax.set_title(\"Discovered Properties over time\");\n",
      "ax.legend(loc=\"best\")\n",
      "ax.grid();"
     ],
     "language": "python",
     "metadata": {},
     "outputs": [
      {
       "metadata": {},
       "output_type": "display_data",
       "png": "[encoded data removed]",
       "text": [
        "<matplotlib.figure.Figure at 0x497a890>"
       ]
      }
     ],
     "prompt_number": 131
    },
    {
     "cell_type": "code",
     "collapsed": false,
     "input": [
      "fig, ax = plt.subplots()\n",
      "ax.plot(df_entropy.index, df_entropy.entropy, label=\"entropy max\");\n",
      "ax.plot(df_random.index, df_random.entropy, label=\"random\");\n",
      "ax.set_title(\"Overall entropy over time\");\n",
      "ax.legend(loc=\"best\")\n",
      "ax.grid();"
     ],
     "language": "python",
     "metadata": {},
     "outputs": [
      {
       "metadata": {},
       "output_type": "display_data",
       "png": "[encoded data removed]",
       "text": [
        "<matplotlib.figure.Figure at 0x4a18890>"
       ]
      }
     ],
     "prompt_number": 132
    },
    {
     "cell_type": "code",
     "collapsed": false,
     "input": [
      "df_entropy.head()"
     ],
     "language": "python",
     "metadata": {},
     "outputs": [
      {
       "html": [
        "<div style=\"max-height:1000px;max-width:1500px;overflow:auto;\">\n",
        "<table border=\"1\" class=\"dataframe\">\n",
        "  <thead>\n",
        "    <tr style=\"text-align: right;\">\n",
        "      <th></th>\n",
        "      <th>entropy</th>\n",
        "      <th>num_properties</th>\n",
        "      <th>num_shapes</th>\n",
        "      <th>timestamps</th>\n",
        "      <th>timestamps_mpl</th>\n",
        "    </tr>\n",
        "  </thead>\n",
        "  <tbody>\n",
        "    <tr>\n",
        "      <th>0</th>\n",
        "      <td>-0.193147</td>\n",
        "      <td> 1</td>\n",
        "      <td> 1</td>\n",
        "      <td>2014-01-15 14:54:10.619935</td>\n",
        "      <td> 735248.615720</td>\n",
        "    </tr>\n",
        "    <tr>\n",
        "      <th>1</th>\n",
        "      <td>-0.386294</td>\n",
        "      <td> 2</td>\n",
        "      <td> 2</td>\n",
        "      <td>2014-01-15 14:54:10.619935</td>\n",
        "      <td> 735248.615945</td>\n",
        "    </tr>\n",
        "    <tr>\n",
        "      <th>2</th>\n",
        "      <td>-0.579442</td>\n",
        "      <td> 3</td>\n",
        "      <td> 3</td>\n",
        "      <td>2014-01-15 14:54:10.619935</td>\n",
        "      <td> 735248.616256</td>\n",
        "    </tr>\n",
        "    <tr>\n",
        "      <th>3</th>\n",
        "      <td>-0.965736</td>\n",
        "      <td> 5</td>\n",
        "      <td> 4</td>\n",
        "      <td>2014-01-15 14:54:10.619935</td>\n",
        "      <td> 735248.616568</td>\n",
        "    </tr>\n",
        "    <tr>\n",
        "      <th>4</th>\n",
        "      <td>-1.352030</td>\n",
        "      <td> 7</td>\n",
        "      <td> 5</td>\n",
        "      <td>2014-01-15 14:54:10.619935</td>\n",
        "      <td> 735248.616900</td>\n",
        "    </tr>\n",
        "  </tbody>\n",
        "</table>\n",
        "</div>"
       ],
       "metadata": {},
       "output_type": "pyout",
       "prompt_number": 133,
       "text": [
        "    entropy  num_properties  num_shapes                 timestamps  \\\n",
        "0 -0.193147               1           1 2014-01-15 14:54:10.619935   \n",
        "1 -0.386294               2           2 2014-01-15 14:54:10.619935   \n",
        "2 -0.579442               3           3 2014-01-15 14:54:10.619935   \n",
        "3 -0.965736               5           4 2014-01-15 14:54:10.619935   \n",
        "4 -1.352030               7           5 2014-01-15 14:54:10.619935   \n",
        "\n",
        "   timestamps_mpl  \n",
        "0   735248.615720  \n",
        "1   735248.615945  \n",
        "2   735248.616256  \n",
        "3   735248.616568  \n",
        "4   735248.616900  "
       ]
      }
     ],
     "prompt_number": 133
    }
   ],
   "metadata": {}
  }
 ]
}