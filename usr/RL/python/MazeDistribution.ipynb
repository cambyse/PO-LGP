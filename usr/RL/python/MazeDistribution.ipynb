{
 "metadata": {
  "name": "",
  "signature": "sha256:62c9b17e6dd0cbdec20b0e8d8381d58ebf9d4039150f8c383981f5dd07fdb43d"
 },
 "nbformat": 3,
 "nbformat_minor": 0,
 "worksheets": [
  {
   "cells": [
    {
     "cell_type": "code",
     "collapsed": false,
     "input": [
      "%load_ext autoreload\n",
      "%autoreload 2\n",
      "import matplotlib as mpl\n",
      "import matplotlib.pyplot as plt\n",
      "import numpy as np\n",
      "%matplotlib inline\n",
      "from dynamic_programming import dynamic_programming"
     ],
     "language": "python",
     "metadata": {},
     "outputs": [],
     "prompt_number": 1
    },
    {
     "cell_type": "code",
     "collapsed": false,
     "input": [
      "@dynamic_programming\n",
      "def p(dx, dy, dt):\n",
      "    \"\"\"Return probability of relative move to (dx,dy) in dt time steps\"\"\"\n",
      "    if dt < 0:\n",
      "        raise ValueError(\"negative time delay\")\n",
      "        return 0\n",
      "    if abs(dx) + abs(dy) > dt:\n",
      "        return 0\n",
      "    if dt == 0:\n",
      "        if dx == 0 and dy == 0:\n",
      "            return 1\n",
      "        else:\n",
      "            return 0\n",
      "    else:\n",
      "        pp = 0\n",
      "        pp += p(dx  ,dy  ,dt-1)\n",
      "        pp += p(dx-1,dy  ,dt-1)\n",
      "        pp += p(dx+1,dy  ,dt-1)\n",
      "        pp += p(dx  ,dy-1,dt-1)\n",
      "        pp += p(dx  ,dy+1,dt-1)\n",
      "        pp *= 0.2\n",
      "        return pp"
     ],
     "language": "python",
     "metadata": {},
     "outputs": [],
     "prompt_number": 2
    },
    {
     "cell_type": "code",
     "collapsed": false,
     "input": [
      "def prob_color(p, scale):\n",
      "    rescaled = np.sqrt(p)\n",
      "    rescaled = np.log(scale*p+1)\n",
      "    return (1, 1-rescaled, 1-rescaled)\n",
      "\n",
      "def plot_dist(nx, ny, posx, posy, dt, scale=10):\n",
      "    x=(0,nx)\n",
      "    y=(0,ny)\n",
      "    posy = ny-posy\n",
      "    t=dt\n",
      "    im = np.array([[prob_color(p(posx-x,posy-y,t), scale) for x in range(x[0],x[1]+1)] for y in range(y[0],y[1]+1)])\n",
      "    im[posy][posx] = (0.5,0.5,0.5)\n",
      "    fig = plt.figure(figsize = (20,20))\n",
      "    ax = plt.subplot(1,2,1)\n",
      "    ax.imshow(im, interpolation='none', extent=(x[0]-0.5,x[1]+0.5,y[0]-0.5,y[1]+0.5))"
     ],
     "language": "python",
     "metadata": {},
     "outputs": [],
     "prompt_number": 58
    },
    {
     "cell_type": "code",
     "collapsed": false,
     "input": [
      "plot_dist(100, 100, 20, 40, 100, 100)"
     ],
     "language": "python",
     "metadata": {},
     "outputs": [
      {
       "metadata": {},
       "output_type": "display_data",
       "png": "[encoded data removed]",
       "text": [
        "<matplotlib.figure.Figure at 0x7f2defda7a90>"
       ]
      }
     ],
     "prompt_number": 59
    },
    {
     "cell_type": "code",
     "collapsed": false,
     "input": [
      "\n",
      "\n",
      "\n",
      "\n",
      "\n",
      "\n",
      "\n",
      "\n",
      "\n",
      "\n",
      "\n",
      "\n",
      "\n",
      "\n",
      "\n",
      "\n",
      "\n",
      "\n",
      "\n",
      "\n",
      "\n",
      "\n",
      "\n",
      "\n",
      "\n",
      "\n",
      "\n",
      "\n",
      "\n",
      "\n"
     ],
     "language": "python",
     "metadata": {},
     "outputs": []
    }
   ],
   "metadata": {}
  }
 ]
}